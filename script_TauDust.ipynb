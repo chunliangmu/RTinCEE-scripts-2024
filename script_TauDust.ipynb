{
 "cells": [
  {
   "cell_type": "code",
   "execution_count": 1,
   "id": "aa711f22-c313-4343-a584-e3efdecd3ad4",
   "metadata": {},
   "outputs": [
    {
     "data": {
      "text/plain": [
       "\"Scripts for analyzing of phantom outputs.\\n\\nThis script calculate the optical depth of the dust shell.\\n\\nAuthor: Chunliang Mu (at Macquarie University, expected duration 2023-2026)\\n\\n\\n-------------------------------------------------------------------------------\\n\\nSide note: Remember to limit line length to 79 characters according to PEP-8\\n    https://peps.python.org/pep-0008/#maximum-line-length    \\nwhich is the length of below line of '-' characters.\\n\\n-------------------------------------------------------------------------------\\n\\n\""
      ]
     },
     "execution_count": 1,
     "metadata": {},
     "output_type": "execute_result"
    }
   ],
   "source": [
    "\"\"\"Scripts for analyzing of phantom outputs.\n",
    "\n",
    "This script calculate the optical depth of the dust shell.\n",
    "\n",
    "Author: Chunliang Mu (at Macquarie University, expected duration 2023-2026)\n",
    "\n",
    "\n",
    "-------------------------------------------------------------------------------\n",
    "\n",
    "Side note: Remember to limit line length to 79 characters according to PEP-8\n",
    "    https://peps.python.org/pep-0008/#maximum-line-length    \n",
    "which is the length of below line of '-' characters.\n",
    "\n",
    "-------------------------------------------------------------------------------\n",
    "\n",
    "\"\"\""
   ]
  },
  {
   "cell_type": "markdown",
   "id": "82b19be2-030c-4fa9-ade5-f4bb38a0c13a",
   "metadata": {},
   "source": [
    ".\n",
    "\n",
    "# Def\n",
    "\n",
    "."
   ]
  },
  {
   "cell_type": "markdown",
   "id": "035afbe0-6134-4121-8416-f0dbbab169fb",
   "metadata": {},
   "source": [
    "## Imports & Settings"
   ]
  },
  {
   "cell_type": "code",
   "execution_count": 2,
   "id": "093b4271-dab0-4b64-8b31-1588fc264966",
   "metadata": {},
   "outputs": [],
   "source": [
    "import math\n",
    "import numpy as np\n",
    "from numpy import pi\n",
    "from astropy import units\n",
    "from astropy import constants as const\n",
    "import matplotlib.pyplot as plt\n",
    "import matplotlib as mpl\n",
    "from numba import jit\n",
    "import sarracen\n",
    "import itertools\n",
    "from scipy import integrate, fft\n",
    "from scipy.spatial import kdtree\n",
    "# fix weird moviepy cannot find my ffmpeg exe error\n",
    "try: from moviepy import editor\n",
    "except RuntimeError: import os; os.environ[\"IMAGEIO_FFMPEG_EXE\"] = \"/usr/bin/ffmpeg\"\n",
    "#from moviepy.editor import ImageSequenceClip\n",
    "#from os import path\n",
    "\n",
    "from datetime import datetime, UTC\n",
    "now_utc = lambda: datetime.now(UTC)\n",
    "now = now_utc\n",
    "\n",
    "# fix numpy v1.* compatibility\n",
    "try: np.trapezoid\n",
    "except AttributeError: np.trapezoid = np.trapz"
   ]
  },
  {
   "cell_type": "code",
   "execution_count": 3,
   "id": "1c75c48c-a738-4783-a6af-560603d629a9",
   "metadata": {},
   "outputs": [],
   "source": [
    "# import my modules listed in ./main/\n",
    "\n",
    "import clmuphantomlib as mupl\n",
    "from clmuphantomlib            import MyPhantomDataFrames, get_eos, get_col_kernel_funcs\n",
    "from clmuphantomlib.log        import is_verbose, say\n",
    "#from clmuphantomlib.settings   import DEFAULT_SETTINGS as settings\n",
    "from clmuphantomlib.units_util import get_val_in_unit, set_as_quantity #, get_units_field_name, get_units_cgs\n",
    "from clmuphantomlib.io         import json_dump, json_load\n",
    "from clmuphantomlib.eos        import get_eos_opacity\n",
    "from clmuphantomlib.light      import get_optical_depth, get_photosphere_on_ray\n",
    "#from clmuphantomlib.sph_interp import get_col_kernel_funcs\n",
    "\n",
    "from multiprocessing import cpu_count, Pool #Process, Queue\n",
    "NPROCESSES = 1 if cpu_count() is None else max(cpu_count(), 1)"
   ]
  },
  {
   "cell_type": "code",
   "execution_count": 4,
   "id": "859f4f11-9307-4f36-b896-3778f252d65a",
   "metadata": {},
   "outputs": [
    {
     "name": "stdout",
     "output_type": "stream",
     "text": [
      "*   Note   :    script:\n",
      "\tWill use 8 processes for parallelization\n"
     ]
    }
   ],
   "source": [
    "# settings\n",
    "#\n",
    "#   imported from script_input.py file\n",
    "\n",
    "\n",
    "from script_TauDust__input import (\n",
    "    verbose,\n",
    "    interm_dir, output_dir, JOB_PROFILES_DICT, job_nicknames, unitsOut, PHOTOSPHERE_TAU,\n",
    ")\n",
    "from _sharedFuncs import mpdf_read\n",
    "\n",
    "unitsOutTxt = {  key  : unitsOut[key].to_string('latex_inline') for key in unitsOut.keys() }\n",
    "\n",
    "\n",
    "# set metadata\n",
    "with open(\"_metadata__input.json\", 'r') as f:\n",
    "    metadata = json_load(f)\n",
    "metadata['Title'] = \"Getting dust shell optical depth.\"\n",
    "metadata['Description'] = f\"\"\"Getting dust shell optical depth\n",
    "for dump file data generated by phantom\n",
    "\"\"\"\n",
    "\n",
    "\n",
    "plt.rcParams.update({'font.size': 20})\n",
    "if __name__ == '__main__' and is_verbose(verbose, 'note'):\n",
    "    # remember to check if name is '__main__' if you wanna say anything\n",
    "    #    so when you do multiprocessing the program doesn't freak out\n",
    "    say('note', \"script\", verbose, f\"Will use {NPROCESSES} processes for parallelization\")\n"
   ]
  },
  {
   "cell_type": "code",
   "execution_count": 5,
   "id": "4853c017-d945-4a40-9098-74dd24e60180",
   "metadata": {},
   "outputs": [],
   "source": [
    "from clmuphantomlib.log import say, is_verbose\n",
    "from clmuphantomlib.geometry import get_dist2_between_2pt, get_closest_pt_on_line\n",
    "from clmuphantomlib.sph_interp import get_sph_interp, get_sph_gradient, get_h_from_rho, get_no_neigh, _get_sph_interp_phantom_np\n",
    "from clmuphantomlib.units_util import set_as_quantity, set_as_quantity_temperature, get_units_field_name\n",
    "from clmuphantomlib.eos import EoS_Base\n",
    "#from clmuphantomlib.light import integrate_along_ray_grid, integrate_along_ray_gridxy\n",
    "\n",
    "#  import (general)\n",
    "import numpy as np\n",
    "from numpy import typing as npt\n",
    "import numba\n",
    "from numba import jit, prange\n",
    "import sarracen\n",
    "\n",
    "from clmuphantomlib.geometry import get_dist2_from_pts_to_line, get_dist2_from_pt_to_line_nb, get_ray_unit_vec, get_rays_unit_vec"
   ]
  },
  {
   "cell_type": "markdown",
   "id": "66f3be41-7416-4563-a4a4-dc0ccdca43f9",
   "metadata": {},
   "source": [
    ".\n",
    "\n",
    "## Main\n",
    "\n",
    ".\n"
   ]
  },
  {
   "cell_type": "code",
   "execution_count": 6,
   "id": "c243913d-e0e7-420b-bcaa-6fded4a0dd06",
   "metadata": {},
   "outputs": [],
   "source": [
    "do_debug = False"
   ]
  },
  {
   "cell_type": "code",
   "execution_count": 14,
   "id": "5749ce8b-1d49-4b32-b2c5-56f6b33dccba",
   "metadata": {},
   "outputs": [
    {
     "name": "stdout",
     "output_type": "stream",
     "text": [
      "    Debug  :    :\n",
      "\ttau_dust = np.float64(0.0)\n"
     ]
    },
    {
     "ename": "FileNotFoundError",
     "evalue": "[Errno 2] No such file or directory: '../raw/luis_2md/light_00020'",
     "output_type": "error",
     "traceback": [
      "\u001b[0;31m---------------------------------------------------------------------------\u001b[0m",
      "\u001b[0;31mFileNotFoundError\u001b[0m                         Traceback (most recent call last)",
      "Cell \u001b[0;32mIn[14], line 22\u001b[0m\n\u001b[1;32m     15\u001b[0m data \u001b[38;5;241m=\u001b[39m {\n\u001b[1;32m     16\u001b[0m     \u001b[38;5;124m'\u001b[39m\u001b[38;5;124mtimes\u001b[39m\u001b[38;5;124m'\u001b[39m: np\u001b[38;5;241m.\u001b[39mfull(\u001b[38;5;28mlen\u001b[39m(file_indexes), np\u001b[38;5;241m.\u001b[39mnan) \u001b[38;5;241m*\u001b[39m units\u001b[38;5;241m.\u001b[39myr,\n\u001b[1;32m     17\u001b[0m     \u001b[38;5;124m'\u001b[39m\u001b[38;5;124mtau_dust\u001b[39m\u001b[38;5;124m'\u001b[39m : np\u001b[38;5;241m.\u001b[39mfull(\u001b[38;5;28mlen\u001b[39m(file_indexes), np\u001b[38;5;241m.\u001b[39mnan),\n\u001b[1;32m     18\u001b[0m }\n\u001b[1;32m     21\u001b[0m \u001b[38;5;28;01mfor\u001b[39;00m ifile, file_index \u001b[38;5;129;01min\u001b[39;00m \u001b[38;5;28menumerate\u001b[39m(file_indexes):\n\u001b[0;32m---> 22\u001b[0m     mpdf \u001b[38;5;241m=\u001b[39m \u001b[43mmpdf_read\u001b[49m\u001b[43m(\u001b[49m\u001b[43mjob_name\u001b[49m\u001b[43m,\u001b[49m\u001b[43m \u001b[49m\u001b[43mfile_index\u001b[49m\u001b[43m,\u001b[49m\u001b[43m \u001b[49m\u001b[43meos_opacity\u001b[49m\u001b[43m,\u001b[49m\u001b[43m \u001b[49m\u001b[43mreset_xyz_by\u001b[49m\u001b[38;5;241;43m=\u001b[39;49m\u001b[38;5;124;43m'\u001b[39;49m\u001b[38;5;124;43mR1\u001b[39;49m\u001b[38;5;124;43m'\u001b[39;49m\u001b[43m,\u001b[49m\u001b[43m \u001b[49m\u001b[43mverbose\u001b[49m\u001b[38;5;241;43m=\u001b[39;49m\u001b[38;5;241;43m1\u001b[39;49m\u001b[43m)\u001b[49m\n\u001b[1;32m     24\u001b[0m     \u001b[38;5;66;03m# select the closer to the observer half that matters\u001b[39;00m\n\u001b[1;32m     25\u001b[0m     \u001b[38;5;28;01massert\u001b[39;00m np\u001b[38;5;241m.\u001b[39mcount_nonzero(ray) \u001b[38;5;241m==\u001b[39m \u001b[38;5;241m1\u001b[39m \u001b[38;5;129;01mand\u001b[39;00m ray[\u001b[38;5;241m1\u001b[39m, \u001b[38;5;241m2\u001b[39m]\n",
      "File \u001b[0;32m/mnt/d/Sync_OneDrive/Macquarie University/Project RT in CEE - Docs/Projects/20230201/scripts/_sharedFuncs.py:40\u001b[0m, in \u001b[0;36mmpdf_read\u001b[0;34m(job_name, file_index, eos_opacity, mpdf, params, reset_xyz_by, kappa_gas, kappa_tol, T_cond_oxy, do_extrap, verbose)\u001b[0m\n\u001b[1;32m     37\u001b[0m \u001b[38;5;28;01mif\u001b[39;00m mpdf \u001b[38;5;129;01mis\u001b[39;00m \u001b[38;5;28;01mNone\u001b[39;00m:\n\u001b[1;32m     38\u001b[0m     mpdf \u001b[38;5;241m=\u001b[39m MyPhantomDataFrames()\n\u001b[0;32m---> 40\u001b[0m \u001b[43mmpdf\u001b[49m\u001b[38;5;241;43m.\u001b[39;49m\u001b[43mread\u001b[49m\u001b[43m(\u001b[49m\u001b[43mjob_name\u001b[49m\u001b[43m,\u001b[49m\u001b[43m \u001b[49m\u001b[43mfile_index\u001b[49m\u001b[43m,\u001b[49m\u001b[43m \u001b[49m\u001b[43mreset_xyz_by\u001b[49m\u001b[38;5;241;43m=\u001b[39;49m\u001b[43mreset_xyz_by\u001b[49m\u001b[43m,\u001b[49m\u001b[43m \u001b[49m\u001b[43mcalc_params\u001b[49m\u001b[38;5;241;43m=\u001b[39;49m\u001b[43m[\u001b[49m\u001b[38;5;124;43m'\u001b[39;49m\u001b[38;5;124;43mvr\u001b[39;49m\u001b[38;5;124;43m'\u001b[39;49m\u001b[43m,\u001b[49m\u001b[43m \u001b[49m\u001b[38;5;124;43m'\u001b[39;49m\u001b[38;5;124;43mR1\u001b[39;49m\u001b[38;5;124;43m'\u001b[39;49m\u001b[43m]\u001b[49m\u001b[43m,\u001b[49m\u001b[43m \u001b[49m\u001b[43mverbose\u001b[49m\u001b[38;5;241;43m=\u001b[39;49m\u001b[43mverbose\u001b[49m\u001b[43m)\u001b[49m\n\u001b[1;32m     42\u001b[0m \u001b[38;5;28;01mif\u001b[39;00m eos_opacity \u001b[38;5;129;01mis\u001b[39;00m \u001b[38;5;28;01mNone\u001b[39;00m:\n\u001b[1;32m     43\u001b[0m     eos_opacity \u001b[38;5;241m=\u001b[39m get_eos_opacity(ieos\u001b[38;5;241m=\u001b[39mmpdf\u001b[38;5;241m.\u001b[39mieos, params\u001b[38;5;241m=\u001b[39mparams)\n",
      "File \u001b[0;32m/mnt/d/Sync_OneDrive/Macquarie University/Project RT in CEE - Docs/Projects/20230201/scripts/clmuphantomlib/mpdf.py:160\u001b[0m, in \u001b[0;36mMyPhantomDataFrames.read\u001b[0;34m(self, job_name, file_index, calc_params, calc_params_params, reset_xyz_by, verbose, reset_xyz_by_CoM)\u001b[0m\n\u001b[1;32m    157\u001b[0m     say(\u001b[38;5;124m'\u001b[39m\u001b[38;5;124mnote\u001b[39m\u001b[38;5;124m'\u001b[39m, \u001b[38;5;28;01mNone\u001b[39;00m, verbose, \u001b[38;5;124mf\u001b[39m\u001b[38;5;124m\"\u001b[39m\u001b[38;5;130;01m\\n\u001b[39;00m\u001b[38;5;130;01m\\n\u001b[39;00m\u001b[38;5;130;01m\\t\u001b[39;00m\u001b[38;5;124mReading \u001b[39m\u001b[38;5;132;01m{\u001b[39;00mfilename\u001b[38;5;132;01m=}\u001b[39;00m\u001b[38;5;130;01m\\n\u001b[39;00m\u001b[38;5;130;01m\\n\u001b[39;00m\u001b[38;5;124m\"\u001b[39m)\n\u001b[1;32m    159\u001b[0m \u001b[38;5;66;03m# read\u001b[39;00m\n\u001b[0;32m--> 160\u001b[0m \u001b[38;5;28mself\u001b[39m\u001b[38;5;241m.\u001b[39msdfs \u001b[38;5;241m=\u001b[39m \u001b[43msarracen\u001b[49m\u001b[38;5;241;43m.\u001b[39;49m\u001b[43mread_phantom\u001b[49m\u001b[43m(\u001b[49m\u001b[43mfilename\u001b[49m\u001b[43m)\u001b[49m\n\u001b[1;32m    161\u001b[0m \u001b[38;5;28;01mif\u001b[39;00m \u001b[38;5;28misinstance\u001b[39m(\u001b[38;5;28mself\u001b[39m\u001b[38;5;241m.\u001b[39msdfs, (\u001b[38;5;28mtuple\u001b[39m, \u001b[38;5;28mlist\u001b[39m)):\n\u001b[1;32m    162\u001b[0m     \u001b[38;5;28mself\u001b[39m\u001b[38;5;241m.\u001b[39msdfs \u001b[38;5;241m=\u001b[39m \u001b[38;5;28mtuple\u001b[39m(\u001b[38;5;28mself\u001b[39m\u001b[38;5;241m.\u001b[39msdfs)\n",
      "File \u001b[0;32m~/anaconda3/envs/clmu_1/lib/python3.12/site-packages/sarracen/readers/read_phantom.py:223\u001b[0m, in \u001b[0;36mread_phantom\u001b[0;34m(filename, separate_types, ignore_inactive)\u001b[0m\n\u001b[1;32m    181\u001b[0m \u001b[38;5;28;01mdef\u001b[39;00m \u001b[38;5;21mread_phantom\u001b[39m(filename: \u001b[38;5;28mstr\u001b[39m, separate_types: \u001b[38;5;28mstr\u001b[39m \u001b[38;5;241m=\u001b[39m \u001b[38;5;124m'\u001b[39m\u001b[38;5;124msinks\u001b[39m\u001b[38;5;124m'\u001b[39m, ignore_inactive: \u001b[38;5;28mbool\u001b[39m \u001b[38;5;241m=\u001b[39m \u001b[38;5;28;01mTrue\u001b[39;00m):\n\u001b[1;32m    182\u001b[0m \u001b[38;5;250m    \u001b[39m\u001b[38;5;124;03m\"\"\"\u001b[39;00m\n\u001b[1;32m    183\u001b[0m \u001b[38;5;124;03m    Read data from a Phantom dump file.\u001b[39;00m\n\u001b[1;32m    184\u001b[0m \n\u001b[0;32m   (...)\u001b[0m\n\u001b[1;32m    221\u001b[0m \u001b[38;5;124;03m    >>> sdf_gas, sdf_dust, sdf_sinks = sarracen.read_phantom('multiple_types_00000', separate_types='all')\u001b[39;00m\n\u001b[1;32m    222\u001b[0m \u001b[38;5;124;03m    \"\"\"\u001b[39;00m\n\u001b[0;32m--> 223\u001b[0m     \u001b[38;5;28;01mwith\u001b[39;00m \u001b[38;5;28;43mopen\u001b[39;49m\u001b[43m(\u001b[49m\u001b[43mfilename\u001b[49m\u001b[43m,\u001b[49m\u001b[43m \u001b[49m\u001b[38;5;124;43m'\u001b[39;49m\u001b[38;5;124;43mrb\u001b[39;49m\u001b[38;5;124;43m'\u001b[39;49m\u001b[43m)\u001b[49m \u001b[38;5;28;01mas\u001b[39;00m fp:\n\u001b[1;32m    224\u001b[0m         def_int_dtype, def_real_dtype \u001b[38;5;241m=\u001b[39m _read_capture_pattern(fp)\n\u001b[1;32m    225\u001b[0m         file_identifier \u001b[38;5;241m=\u001b[39m _read_file_identifier(fp)\n",
      "\u001b[0;31mFileNotFoundError\u001b[0m: [Errno 2] No such file or directory: '../raw/luis_2md/light_00020'"
     ]
    }
   ],
   "source": [
    "if __name__ == '__main__' and not do_debug:\n",
    "\n",
    "    ray = np.array((\n",
    "        (0, 0, 0),\n",
    "        (0, 0, 1)\n",
    "    ), dtype=np.float64)\n",
    "\n",
    "    for job_nickname in job_nicknames: #['2md', ]:\n",
    "        job_profile = JOB_PROFILES_DICT[job_nickname]\n",
    "        job_name    = job_profile['job_name']\n",
    "        file_indexes= job_profile['file_indexes']\n",
    "        params      = job_profile['params']\n",
    "        eos_opacity = get_eos_opacity(ieos=10, params=params)    #EoS_MESA_opacity(params, settings)\n",
    "        \n",
    "        data = {\n",
    "            'times': np.full(len(file_indexes), np.nan) * units.yr,\n",
    "            'tau_dust' : np.full(len(file_indexes), np.nan),\n",
    "        }\n",
    "\n",
    "            \n",
    "        for ifile, file_index in enumerate(file_indexes):\n",
    "            mpdf = mpdf_read(job_name, file_index, eos_opacity, reset_xyz_by='R1', verbose=1)\n",
    "\n",
    "            # select the closer to the observer half that matters\n",
    "            assert np.count_nonzero(ray) == 1 and ray[1, 2]\n",
    "            sdf = mpdf.data['gas'].loc[mpdf.data['gas']['z'] > 0].copy()\n",
    "            \n",
    "            sdf['kappa'] = sdf['kappa_dust']\n",
    "\n",
    "            pts_on_ray, dtaus, pts_order = get_optical_depth(sdf, ray)\n",
    "\n",
    "            tau_dust = np.sum(dtaus)\n",
    "            if is_verbose(verbose, 'info'):\n",
    "                say('info', None, verbose, f\"{tau_dust = }\")\n",
    "\n",
    "            data['times'][ifile] = mpdf.get_time()\n",
    "            data['tau_dust'][ifile] = tau_dust\n",
    "\n",
    "            del pts_on_ray, dtaus, pts_order, tau_dust\n",
    "\n",
    "        # save data\n",
    "        with open(f\"{interm_dir}taudust.{job_nickname}.json\", 'w') as f:\n",
    "            mupl.json_dump(data, f, metadata)"
   ]
  }
 ],
 "metadata": {
  "kernelspec": {
   "display_name": "Python 3 (ipykernel)",
   "language": "python",
   "name": "python3"
  },
  "language_info": {
   "codemirror_mode": {
    "name": "ipython",
    "version": 3
   },
   "file_extension": ".py",
   "mimetype": "text/x-python",
   "name": "python",
   "nbconvert_exporter": "python",
   "pygments_lexer": "ipython3",
   "version": "3.12.4"
  }
 },
 "nbformat": 4,
 "nbformat_minor": 5
}
