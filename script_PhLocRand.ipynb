{
 "cells": [
  {
   "cell_type": "code",
   "execution_count": 1,
   "id": "aa711f22-c313-4343-a584-e3efdecd3ad4",
   "metadata": {},
   "outputs": [
    {
     "data": {
      "text/plain": [
       "'Scripts for analyzing of phantom outputs.\\n\\nThis script analyze the photospheric properties by randomly select rays in 3D space\\n\\n'"
      ]
     },
     "execution_count": 1,
     "metadata": {},
     "output_type": "execute_result"
    }
   ],
   "source": [
    "\"\"\"Scripts for analyzing of phantom outputs.\n",
    "\n",
    "This script analyze the photospheric properties by randomly select rays in 3D space\n",
    "\n",
    "\"\"\""
   ]
  },
  {
   "cell_type": "markdown",
   "id": "82b19be2-030c-4fa9-ade5-f4bb38a0c13a",
   "metadata": {},
   "source": [
    "# Main"
   ]
  },
  {
   "cell_type": "markdown",
   "id": "035afbe0-6134-4121-8416-f0dbbab169fb",
   "metadata": {},
   "source": [
    "## Imports & Settings"
   ]
  },
  {
   "cell_type": "code",
   "execution_count": 2,
   "id": "093b4271-dab0-4b64-8b31-1588fc264966",
   "metadata": {},
   "outputs": [],
   "source": [
    "import numpy as np\n",
    "from numpy import pi\n",
    "from astropy import units\n",
    "import matplotlib.pyplot as plt\n",
    "import matplotlib as mpl\n",
    "#from moviepy.editor import ImageSequenceClip\n",
    "#from os import path"
   ]
  },
  {
   "cell_type": "code",
   "execution_count": 12,
   "id": "1c75c48c-a738-4783-a6af-560603d629a9",
   "metadata": {},
   "outputs": [],
   "source": [
    "# import my modules listed in ./main/\n",
    "\n",
    "from main import clmuphantomlib as mupl\n",
    "#from main.clmuphantomlib.readwrite import json_load\n",
    "from main.clmuphantomlib.log import is_verbose, say\n",
    "from main.clmuphantomlib.settings   import DEFAULT_SETTINGS as settings\n",
    "from main.clmuphantomlib.units_util import get_val_in_unit #set_as_quantity, get_units_field_name, get_units_cgs\n",
    "from main.clmuphantomlib.eos_mesa   import EoS_MESA_opacity\n",
    "from main.clmuphantomlib import MyPhantomDataFrames, get_eos\n",
    "from main.clmuphantomlib.light import get_optical_depth_by_ray_tracing_3D, get_photosphere_on_ray\n",
    "from multiprocessing import cpu_count, Pool #Process, Queue\n",
    "NPROCESSES = 1 if cpu_count() is None else max(cpu_count(), 1)"
   ]
  },
  {
   "cell_type": "code",
   "execution_count": 139,
   "id": "859f4f11-9307-4f36-b896-3778f252d65a",
   "metadata": {},
   "outputs": [
    {
     "name": "stdout",
     "output_type": "stream",
     "text": [
      "*   Note   :    script:\n",
      "\tWill use 8 processes for parallelization\n"
     ]
    }
   ],
   "source": [
    "# settings\n",
    "#\n",
    "#   imported from script_input.py file\n",
    "\n",
    "\n",
    "from script_PhLocRand__input import verbose, fps, unitsOut, JOB_PROFILES_DICT\n",
    "\n",
    "unitsOutTxt = {  key  : unitsOut[key].to_string('latex_inline') for key in unitsOut.keys() }\n",
    "\n",
    "\n",
    "plt.rcParams.update({'font.size': 20})\n",
    "if __name__ == '__main__' and is_verbose(verbose, 'note'):\n",
    "    # remember to check if name is '__main__' if you wanna say anything\n",
    "    #    so when you do multiprocessing the program doesn't freak out\n",
    "    say('note', \"script\", verbose, f\"Will use {NPROCESSES} processes for parallelization\")\n"
   ]
  },
  {
   "cell_type": "code",
   "execution_count": 5,
   "id": "048ff24a-38af-4403-9c72-0382d97543e7",
   "metadata": {},
   "outputs": [],
   "source": [
    "def mpdf_read(\n",
    "    job_name: str,\n",
    "    file_index: int,\n",
    "    eos_opacity: EoS_MESA_opacity,\n",
    "    mpdf: MyPhantomDataFrames|None = None,\n",
    "    verbose: int = 3,\n",
    ") -> MyPhantomDataFrames:\n",
    "    \"\"\"Read the dump files and get T and kappa.\"\"\"\n",
    "    if mpdf is None:\n",
    "        mpdf = MyPhantomDataFrames()\n",
    "\n",
    "    mpdf.read(job_name, file_index, verbose=verbose)\n",
    "    temp_key = {'T', 'temperature', 'Tdust'}.intersection(mpdf.data['gas'].keys()).pop()\n",
    "    mpdf.data['gas']['T'    ] = mpdf.data['gas'][temp_key]\n",
    "    if 'kappa' in mpdf.data['gas'].keys():\n",
    "        mpdf.data['gas']['kappa'] = get_val_in_unit(mpdf.data['gas']['kappa'], units.cm**2/units.g, mpdf.units['opacity'])\n",
    "        print(np.min(mpdf.get_val('kappa').to(unitsOut['opacity']).value))\n",
    "        kappa_mesa = eos_opacity.get_kappa(mpdf.get_val('rho'), mpdf.get_val('T'), do_extrap=False).to_value(mpdf.units['opacity'])\n",
    "        kappa_gas  = (2e-4*(units.cm**2/units.g)).to(mpdf.units['opacity'])\n",
    "        T_cond_oxy = 1450 * units.K\n",
    "        mpdf.data['gas']['kappa'] = np.where(\n",
    "            mpdf.data['gas']['T'] < T_cond_oxy, mpdf.data['gas']['kappa'], mpdf.data['gas']['kappa'] - kappa_gas + kappa_mesa)\n",
    "    else:\n",
    "        raise NotImplementedError(\"non-dusty sims (no kappa column in dump files) not yet implemented\")\n",
    "\n",
    "    return mpdf"
   ]
  },
  {
   "cell_type": "code",
   "execution_count": 66,
   "id": "477f7a4c-1fa8-4c39-ac0b-c7a434b66c67",
   "metadata": {},
   "outputs": [],
   "source": [
    "def get_rand_rays_unit_vec(ray_no: int, cos_theta_mid: None|float = None, cos_theta_delta: None|float = None) -> np.ndarray:\n",
    "    \"\"\"Generate a series of rays pointing at random directions.\n",
    "\n",
    "    if both cos_theta_mid and cos_theta_delta is supply,\n",
    "        will only generate directions with cos_theta in between cos_theta_mid +/- cos_theta_delta\n",
    "\n",
    "    returns: (ray_no, 3)-shaped array\n",
    "    \"\"\"\n",
    "    phis       = np.random.uniform( 0., 2*pi, ray_no)\n",
    "    cos_thetas = np.random.uniform(-1.,   1., ray_no)\n",
    "    if cos_theta_mid is not None and cos_theta_delta is not None:\n",
    "        cos_thetas = cos_theta_mid + cos_thetas * cos_theta_delta\n",
    "    sin_thetas = (1 - cos_thetas**2)**0.5\n",
    "    rays = np.column_stack((\n",
    "        sin_thetas * np.sin(phis),\n",
    "        sin_thetas * np.cos(phis),\n",
    "        cos_thetas,\n",
    "    ))\n",
    "    return rays"
   ]
  },
  {
   "cell_type": "markdown",
   "id": "9abb0f6a-4833-4fd9-81de-d78d8d44cf60",
   "metadata": {},
   "source": [
    "    # testing get_rand_rays_unit_vec\n",
    "    %matplotlib widget\n",
    "    from mpl_toolkits.mplot3d import Axes3D\n",
    "    import matplotlib.pyplot as plt\n",
    "    import matplotlib as mpl\n",
    "    plt.close('all')\n",
    "    \n",
    "    rays = get_rand_rays_unit_vec(100)\n",
    "    \n",
    "    lims = (-1.1, 1.1)\n",
    "    fig = plt.figure(figsize=(8, 8))\n",
    "    ax = Axes3D(fig)\n",
    "    ax.scatter(rays[:, 0], rays[:, 1], rays[:, 2])\n",
    "    ax.set_xlim(lims)\n",
    "    ax.set_ylim(lims)\n",
    "    ax.set_zlim(lims)\n",
    "    fig.add_axes(ax)\n",
    "    plt.show(fig)"
   ]
  },
  {
   "cell_type": "code",
   "execution_count": 62,
   "id": "851d8009-2f87-4027-b919-847c7843ece3",
   "metadata": {},
   "outputs": [],
   "source": [
    "def get_ph_vals(\n",
    "    vals_names: list,\n",
    "    mpdf: MyPhantomDataFrames,\n",
    "    eos: mupl.eos_base.EoS_Base,\n",
    "    rays_unit_vecs : np.ndarray, # (ray_no, 3)-shaped\n",
    "    verbose: int,\n",
    "):\n",
    "    sdf_all = mpdf.data['gas']\n",
    "    hs = np.array(sdf_all['h'])\n",
    "    pts = np.array(sdf_all[['x', 'y', 'z']])    # (npart, 3)-shaped array\n",
    "    kernel_radius = sdf_all.kernel.get_radius()\n",
    "\n",
    "    plane_orig_vec = np.array(mpdf.data['sink'][['x', 'y', 'z']].iloc[0])\n",
    "\n",
    "    # random direction in the sphere\n",
    "    #rays_unit_vecs = get_rand_rays_unit_vec(ray_no)\n",
    "    ray_no = len(rays_unit_vecs)\n",
    "    \n",
    "    vals_dict = {\n",
    "        val_name: np.full(ray_no, np.nan)\n",
    "        for val_name in vals_names\n",
    "    }\n",
    "    \n",
    "    for iray, ray_unit_vec in enumerate(rays_unit_vecs):\n",
    "        ray = [\n",
    "            plane_orig_vec,\n",
    "            plane_orig_vec + ray_unit_vec,\n",
    "        ]\n",
    "        \n",
    "        pts_on_ray = mupl.get_closest_pt_on_line(pts, ray)\n",
    "        sdf_selected_indices = (np.sum((pts - pts_on_ray)**2, axis=-1) <= (kernel_radius * hs)**2)\n",
    "        sdf = sdf_all.iloc[sdf_selected_indices]\n",
    "        \n",
    "        pts_on_ray, dtaus, pts_order = get_optical_depth_by_ray_tracing_3D(sdf, ray)\n",
    "        photosphere, waypts_list = mupl.get_photosphere_on_ray(\n",
    "            pts_on_ray, dtaus, pts_order, sdf, ray,\n",
    "            calc_params = vals_names,\n",
    "            eos = eos,\n",
    "            sdf_units = mpdf.units,\n",
    "        )\n",
    "        for val_name in vals_names:\n",
    "            vals_dict[val_name][iray] = photosphere[val_name]\n",
    "    return vals_dict"
   ]
  },
  {
   "cell_type": "code",
   "execution_count": 63,
   "id": "f1a44573-c845-473a-ba45-c9a086aedc5c",
   "metadata": {},
   "outputs": [
    {
     "name": "stdout",
     "output_type": "stream",
     "text": [
      "*   Note   :    MyPhantomDataFrames.read():\n",
      "\t\n",
      "\tReading filename='../photosphere/luis_2md/light_17600'\n",
      "\n",
      "**  Warning:    MyPhantomDataFrames.read():\n",
      "\t*    Warning: CoM significantly deviates from the origin,with distance of 15.877373716421248Consider use reset_xyz_by_CoM=True option when read.\n",
      "**  Warning:    MyPhantomDataFrames.read():\n",
      "\tkappa column exists.\n",
      "\tWe here assume kappa is in phantom units self.units['opacity']=Unit(\"udist2 / umass\")\n",
      "\tHowever in phantom kappa is often (?) assumed to be in cgs unit.\n",
      "\t\n",
      "    If so, please CONVERT KAPPA MANNUALLY into PHANTOM UNITS, such as:\n",
      "\t\n",
      "        mpdf.data['gas']['kappa'] = \n",
      "\tmupl.get_val_in_unit(mpdf.data['gas']['kappa'], units.cm**2/units.g, mpdf.units['opacity'])\n",
      "0.008153849996180169\n",
      "*   Note   :    main():\n",
      "\tR1 = 97003.46612032576 +/- 3323.5691385764612\n",
      "\tT = 380.67556883105857 +/- 27.815596795393233\n",
      "*   Note   :    main():\n",
      "\tR1 = 96135.60340649262 +/- 2093.3616909379875\n",
      "\tT = 376.72172938013443 +/- 16.822580038035188\n",
      "*   Note   :    main():\n",
      "\tR1 = 96482.99453610036 +/- 2870.592605013062\n",
      "\tT = 377.6450349585298 +/- 18.35759729257903\n",
      "*   Note   :    main():\n",
      "\tR1 = 96524.46193541633 +/- 2559.116146844982\n",
      "\tT = 379.80017930419353 +/- 22.639263866256023\n",
      "*   Note   :    main():\n",
      "\tR1 = 96492.04747737918 +/- 2604.402094815164\n",
      "\tT = 378.74324156639267 +/- 19.823983948081963\n",
      "*   Note   :    main():\n",
      "\tR1 = 96488.9616373059 +/- 2754.9009763203917\n",
      "\tT = 375.529064184778 +/- 19.499805602426754\n",
      "*   Note   :    main():\n",
      "\tR1 = 96621.25533259961 +/- 2671.761138149794\n",
      "\tT = 380.17784489237306 +/- 21.244102646923217\n",
      "*   Note   :    main():\n",
      "\tR1 = 96255.64225582291 +/- 2159.647583056298\n",
      "\tT = 377.7687243799386 +/- 21.457731103674305\n",
      "*   Note   :    main():\n",
      "\tR1 = 96274.08525282823 +/- 2046.2683000293182\n",
      "\tT = 375.23868200833914 +/- 16.843229849939807\n",
      "*   Note   :    main():\n",
      "\tR1 = 97004.39233261444 +/- 3430.810458091426\n",
      "\tT = 382.0153015219328 +/- 25.324727432474777\n"
     ]
    }
   ],
   "source": [
    "# get the values at random directions (repeat 10 times to make sure the numbers are 'converged')\n",
    "\n",
    "if __name__ == '__main__':\n",
    "    mpdf = MyPhantomDataFrames()\n",
    "    vals_names = ['R1', 'T']\n",
    "    ray_no = 100\n",
    "    \n",
    "    key = '2md'\n",
    "    file_index  = 17600\n",
    "    job_profile = JOB_PROFILES_DICT[key]\n",
    "    job_name    = job_profile['job_name']\n",
    "    params      = job_profile['params']\n",
    "    ieos = job_profile['ieos']\n",
    "    eos  = get_eos(ieos, params, settings)\n",
    "    eos_opacity = EoS_MESA_opacity(params, settings)\n",
    "    \n",
    "    mpdf = mpdf_read(job_name, file_index, eos_opacity, mpdf, verbose=verbose)\n",
    "\n",
    "    for i in range(10):\n",
    "        rays_unit_vecs = get_rand_rays_unit_vec(ray_no)\n",
    "        vals_dict = get_ph_vals(vals_names, mpdf, eos, rays_unit_vecs, verbose=verbose)\n",
    "    \n",
    "        if is_verbose(verbose, 'note'):\n",
    "            say('note', 'main()', verbose,\n",
    "                *[f'{val_name} = {np.average(vals_dict[val_name])} +/- {np.std(vals_dict[val_name])}' for val_name in vals_names]\n",
    "            )"
   ]
  },
  {
   "cell_type": "code",
   "execution_count": 74,
   "id": "84d60dc9-c0ec-4572-bcca-c184c7ff38b8",
   "metadata": {},
   "outputs": [
    {
     "name": "stdout",
     "output_type": "stream",
     "text": [
      "*   Note   :    MyPhantomDataFrames.read():\n",
      "\t\n",
      "\tReading filename='../photosphere/luis_2md/light_17600'\n",
      "\n",
      "**  Warning:    MyPhantomDataFrames.read():\n",
      "\t*    Warning: CoM significantly deviates from the origin,with distance of 15.877373716421248Consider use reset_xyz_by_CoM=True option when read.\n",
      "**  Warning:    MyPhantomDataFrames.read():\n",
      "\tkappa column exists.\n",
      "\tWe here assume kappa is in phantom units self.units['opacity']=Unit(\"udist2 / umass\")\n",
      "\tHowever in phantom kappa is often (?) assumed to be in cgs unit.\n",
      "\t\n",
      "    If so, please CONVERT KAPPA MANNUALLY into PHANTOM UNITS, such as:\n",
      "\t\n",
      "        mpdf.data['gas']['kappa'] = \n",
      "\tmupl.get_val_in_unit(mpdf.data['gas']['kappa'], units.cm**2/units.g, mpdf.units['opacity'])\n",
      "0.008153849996180169\n",
      "*   Note   :    cos_theta_mid = -0.95:\n",
      "\tR1 = 101020.92566416053 +/- 3253.4004136456215\n",
      "\tT = 422.21233454620904 +/- 24.20826294460388\n",
      "*   Note   :    cos_theta_mid = -0.85:\n",
      "\tR1 = 96454.98020655662 +/- 1036.799168278459\n",
      "\tT = 373.7043771931104 +/- 22.689303523109107\n",
      "*   Note   :    cos_theta_mid = -0.75:\n",
      "\tR1 = 96059.33599303146 +/- 716.9159220029374\n",
      "\tT = 365.42310986432346 +/- 10.779904054942653\n",
      "*   Note   :    cos_theta_mid = -0.6499999999999999:\n",
      "\tR1 = 95715.80973941604 +/- 636.2226802204128\n",
      "\tT = 365.7801545244324 +/- 10.293333889004904\n",
      "*   Note   :    cos_theta_mid = -0.55:\n",
      "\tR1 = 95443.87947540329 +/- 460.03500687624353\n",
      "\tT = 368.84150657735046 +/- 8.745237468602895\n",
      "*   Note   :    cos_theta_mid = -0.45:\n",
      "\tR1 = 95232.24824484387 +/- 528.121060210986\n",
      "\tT = 370.5378355050707 +/- 9.916192334525896\n",
      "*   Note   :    cos_theta_mid = -0.35:\n",
      "\tR1 = 95160.82236817403 +/- 536.257093252567\n",
      "\tT = 372.6604938538489 +/- 8.070628052301677\n",
      "*   Note   :    cos_theta_mid = -0.25:\n",
      "\tR1 = 95102.62695427977 +/- 676.1669410444821\n",
      "\tT = 373.6745141376769 +/- 6.216382197877614\n",
      "*   Note   :    cos_theta_mid = -0.15000000000000002:\n",
      "\tR1 = 95153.8508319146 +/- 730.0997345890167\n",
      "\tT = 375.0833875607428 +/- 4.472122424150309\n",
      "*   Note   :    cos_theta_mid = -0.050000000000000044:\n",
      "\tR1 = 95236.13565585451 +/- 787.8142101974357\n",
      "\tT = 376.0307277478367 +/- 4.625849142013736\n",
      "*   Note   :    cos_theta_mid = 0.04999999999999993:\n",
      "\tR1 = 95337.09569214928 +/- 776.4326367557392\n",
      "\tT = 375.99862350933154 +/- 5.552405981741409\n",
      "*   Note   :    cos_theta_mid = 0.1499999999999999:\n",
      "\tR1 = 95433.66677736802 +/- 882.4775778737718\n",
      "\tT = 375.46875950967615 +/- 4.933725879814604\n",
      "*   Note   :    cos_theta_mid = 0.25:\n",
      "\tR1 = 95398.99918641057 +/- 825.605625450892\n",
      "\tT = 375.56052251938775 +/- 3.882990515467662\n",
      "*   Note   :    cos_theta_mid = 0.34999999999999987:\n",
      "\tR1 = 95588.61575629863 +/- 739.1449196204649\n",
      "\tT = 375.0676875714204 +/- 4.97975024875328\n",
      "*   Note   :    cos_theta_mid = 0.44999999999999996:\n",
      "\tR1 = 95857.02768864649 +/- 674.5556090113752\n",
      "\tT = 374.52513561812026 +/- 6.32181382181313\n",
      "*   Note   :    cos_theta_mid = 0.5499999999999998:\n",
      "\tR1 = 96103.19730568578 +/- 640.9692642206425\n",
      "\tT = 369.4043725232157 +/- 8.467996727069904\n",
      "*   Note   :    cos_theta_mid = 0.6499999999999999:\n",
      "\tR1 = 96615.91874941623 +/- 738.6850189154511\n",
      "\tT = 366.6764010704792 +/- 9.300367900496564\n",
      "*   Note   :    cos_theta_mid = 0.75:\n",
      "\tR1 = 97264.55717265498 +/- 816.4908760325609\n",
      "\tT = 368.09098176713036 +/- 10.038800099662081\n",
      "*   Note   :    cos_theta_mid = 0.8499999999999999:\n",
      "\tR1 = 98289.98960256351 +/- 792.2272983500422\n",
      "\tT = 387.76257828095765 +/- 26.50423757389311\n",
      "*   Note   :    cos_theta_mid = 0.95:\n",
      "\tR1 = 105123.90928420729 +/- 3607.7299410315177\n",
      "\tT = 431.67149250202493 +/- 17.57232798450602\n"
     ]
    }
   ],
   "source": [
    "# get the values at different inclination angles\n",
    "\n",
    "if __name__ == '__main__':\n",
    "    mpdf = MyPhantomDataFrames()\n",
    "    vals_names = ['R1', 'T']\n",
    "    ray_no = 100\n",
    "    \n",
    "    key = '2md'\n",
    "    file_index  = 17600\n",
    "    job_profile = JOB_PROFILES_DICT[key]\n",
    "    job_name    = job_profile['job_name']\n",
    "    params      = job_profile['params']\n",
    "    ieos = job_profile['ieos']\n",
    "    eos  = get_eos(ieos, params, settings)\n",
    "    eos_opacity = EoS_MESA_opacity(params, settings)\n",
    "    \n",
    "    mpdf = mpdf_read(job_name, file_index, eos_opacity, mpdf, verbose=verbose)\n",
    "\n",
    "    cos_theta_sample_no = 20\n",
    "    cos_theta_delta = 1. / cos_theta_sample_no\n",
    "    cos_thetas = np.linspace(-1+cos_theta_delta, 1-cos_theta_delta, cos_theta_sample_no)\n",
    "    vals_by_cos_thetas = []\n",
    "\n",
    "    for i, cos_theta_mid in enumerate(cos_thetas):\n",
    "        rays_unit_vecs = get_rand_rays_unit_vec(ray_no, cos_theta_mid, cos_theta_delta)\n",
    "        vals_dict = get_ph_vals(vals_names, mpdf, eos, rays_unit_vecs, verbose=verbose)\n",
    "        vals_by_cos_thetas.append(vals_dict)\n",
    "    \n",
    "        if is_verbose(verbose, 'note'):\n",
    "            say('note', f'cos_theta_mid = {cos_theta_mid}', verbose,\n",
    "                *[f'{val_name} = {np.average(vals_dict[val_name])} +/- {np.std(vals_dict[val_name])}' for val_name in vals_names]\n",
    "            )"
   ]
  },
  {
   "cell_type": "code",
   "execution_count": 99,
   "id": "3210dd24-adca-4a5f-8852-f98a0e4f190c",
   "metadata": {},
   "outputs": [
    {
     "data": {
      "image/png": "[encoded data removed]",
      "text/plain": [
       "<Figure size 800x800 with 1 Axes>"
      ]
     },
     "metadata": {},
     "output_type": "display_data"
    }
   ],
   "source": [
    "# plotting T vs inclination angle\n",
    "\n",
    "if __name__ == '__main__':\n",
    "    fig, ax = plt.subplots(figsize=(8, 8))\n",
    "    x = cos_thetas\n",
    "    xerr = cos_theta_delta\n",
    "    y_data = [ vals_dict['T'] for vals_dict in vals_by_cos_thetas ]\n",
    "    y = np.average(y_data, axis = 1)\n",
    "    yerr =  np.std(y_data, axis = 1)\n",
    "    #ax.plot(x, y, 'o-')\n",
    "    #ax.fill_between(x, y-yerr, y+yerr, alpha=0.15)\n",
    "    ax.errorbar(x, y, yerr, xerr, 'o')\n",
    "\n",
    "    ax.set_xlim((-1., 1.))\n",
    "    ax.set_ylim((300, 500))\n",
    "    ax.set_xlabel(\"$\\\\cos{\\\\theta}$\")\n",
    "    ax.set_ylabel(f\"$T$ / {mpdf.units['temp']}\")\n",
    "\n",
    "    plt.show()"
   ]
  },
  {
   "cell_type": "code",
   "execution_count": 135,
   "id": "528d5ffd-4926-44d5-8fc0-27d70decc1bc",
   "metadata": {},
   "outputs": [
    {
     "data": {
      "text/plain": [
       "'2md'"
      ]
     },
     "execution_count": 135,
     "metadata": {},
     "output_type": "execute_result"
    }
   ],
   "source": [
    "key"
   ]
  },
  {
   "cell_type": "code",
   "execution_count": 164,
   "id": "ed226b68-616d-4b0a-9d4d-f1b8df9fbb15",
   "metadata": {},
   "outputs": [
    {
     "name": "stdout",
     "output_type": "stream",
     "text": [
      "saved to ../photosphere/luis_2md/light_17600__photosphere-vals_Tph-vs-incl.png\n"
     ]
    },
    {
     "data": {
      "image/png": "[encoded data removed]",
      "text/plain": [
       "<Figure size 800x800 with 1 Axes>"
      ]
     },
     "metadata": {},
     "output_type": "display_data"
    }
   ],
   "source": [
    "# plotting T vs inclination angle (combining negative and positive side of cos_theta)\n",
    "\n",
    "if __name__ == '__main__':\n",
    "    fig, ax = plt.subplots(figsize=(8, 8))\n",
    "    x = cos_thetas\n",
    "    halflen = int(len(x)/2)\n",
    "    x = x[halflen:]\n",
    "    xerr = cos_theta_delta\n",
    "\n",
    "    y_data_full = [ vals_dict['T'] for vals_dict in vals_by_cos_thetas ]\n",
    "\n",
    "    y_data = y_data_full[halflen:]\n",
    "    y_data = [np.concatenate((y_data_full[i], y_data_full[-i-1])) for i in range(halflen-1, -1, -1)]\n",
    "    \n",
    "    y = np.average(y_data, axis = 1)\n",
    "    yerr =  np.std(y_data, axis = 1)\n",
    "\n",
    "    y_total = np.average(y_data_full, axis=None)\n",
    "    y_total_err = np.std(y_data_full, axis=None)\n",
    "    #ax.plot(x, y, 'o-')\n",
    "    #ax.fill_between(x, y-yerr, y+yerr, alpha=0.15)\n",
    "    ax.errorbar(x, y, yerr, xerr, 'o')\n",
    "\n",
    "    ax.set_xlim((0., 1.))\n",
    "    ax.set_ylim((350, 450))\n",
    "    ax.set_xlabel(\"$\\\\cos{\\\\theta}$\")\n",
    "    ax.set_ylabel(f\"$T_\\\\mathrm{{ph}}$ / {mpdf.units['temp']}\")\n",
    "\n",
    "    ax.axhline(y_total, color='C1', linestyle='dashed')\n",
    "    ax.fill_between((0., 1.), y_total-y_total_err, y_total+y_total_err, color='C1', alpha=0.15)\n",
    "    \n",
    "    ax.text(\n",
    "        0.02, 0.98,\n",
    "        f\"Time = {mpdf.get_time():.1f}\"\n",
    "        f\"\\n Total $T_\\\\mathrm{{ph}} = {y_total:.1f}\"\n",
    "        f\"\\pm {y_total_err:.1f} $ {mpdf.units['temp']}\",\n",
    "        color = \"black\", ha = 'left', va = 'top',\n",
    "        transform=ax.transAxes,\n",
    "    )\n",
    "    ax.set_title(\n",
    "        \"Photosphere Temperature $T_\\\\mathrm{{ph}}$ by inclination angle\\n\"\n",
    "        #f\"resolution = {mpdf.params['nparttot']:.2e}\"\n",
    "        f\"{job_profile['plot_title_suffix']}\"\n",
    "    )\n",
    "\n",
    "    outfilename_noext = f\"{mpdf.get_filename()}__photosphere-vals_Tph-vs-incl\"\n",
    "    plt.savefig(f\"{outfilename_noext}.png\")\n",
    "    print(f\"saved to {outfilename_noext}.png\")\n",
    "\n",
    "    plt.show()"
   ]
  },
  {
   "cell_type": "code",
   "execution_count": null,
   "id": "a2544d53-322b-4c1b-bc20-322e7e277c6c",
   "metadata": {},
   "outputs": [],
   "source": []
  },
  {
   "cell_type": "code",
   "execution_count": 147,
   "id": "edc65050-83bb-48fb-8d07-64bb4ee2640d",
   "metadata": {},
   "outputs": [
    {
     "data": {
      "text/plain": [
       "1.8241767916416993"
      ]
     },
     "execution_count": 147,
     "metadata": {},
     "output_type": "execute_result"
    }
   ],
   "source": [
    "(430/370)**4"
   ]
  },
  {
   "cell_type": "code",
   "execution_count": 137,
   "id": "0394c16a-0b4e-4ac0-83e8-1376d0b87ca5",
   "metadata": {},
   "outputs": [
    {
     "data": {
      "text/plain": [
       "'../photosphere/luis_2md/light_17600'"
      ]
     },
     "execution_count": 137,
     "metadata": {},
     "output_type": "execute_result"
    }
   ],
   "source": [
    "mpdf.get_filename()"
   ]
  },
  {
   "cell_type": "code",
   "execution_count": 129,
   "id": "df382120-1dec-4049-b2d9-a4baba337604",
   "metadata": {},
   "outputs": [
    {
     "data": {
      "text/plain": [
       "array([-0.95, -0.85, -0.75, -0.65, -0.55, -0.45, -0.35, -0.25, -0.15,\n",
       "       -0.05,  0.05,  0.15,  0.25,  0.35,  0.45,  0.55,  0.65,  0.75,\n",
       "        0.85,  0.95])"
      ]
     },
     "execution_count": 129,
     "metadata": {},
     "output_type": "execute_result"
    }
   ],
   "source": [
    "x"
   ]
  },
  {
   "cell_type": "code",
   "execution_count": 124,
   "id": "c4478712-fcea-4176-b25e-f4aa14e975fe",
   "metadata": {},
   "outputs": [
    {
     "data": {
      "text/plain": [
       "(array([381.11633315, 373.29814444, 383.02435173, 371.8756442 ,\n",
       "        382.04943711, 380.76949837, 373.15055917, 384.37496313,\n",
       "        369.73407463, 378.79126996, 382.30359946, 368.40274969,\n",
       "        382.83473536, 374.24777333, 374.75080793, 375.42545607,\n",
       "        374.1833448 , 380.04228694, 374.23405445, 375.20321743,\n",
       "        370.9616473 , 373.73051215, 367.48285853, 381.21591773,\n",
       "        372.94889703, 381.30100967, 379.89694664, 381.73216815,\n",
       "        378.35703823, 381.04470428, 382.56129299, 379.35890431,\n",
       "        378.61043372, 375.66850164, 375.28439629, 373.05547124,\n",
       "        370.16208811, 378.89415848, 369.13412438, 367.5604638 ,\n",
       "        379.3960167 , 374.18875963, 382.63172268, 374.18307131,\n",
       "        377.37180526, 385.03073553, 376.95924268, 373.10964677,\n",
       "        372.45525426, 372.64720475, 369.54970918, 381.90936165,\n",
       "        378.20892562, 382.26282302, 376.71889488, 380.39885434,\n",
       "        380.32512676, 369.50553631, 373.75475686, 380.02635746,\n",
       "        374.0285599 , 369.75733173, 381.28941758, 376.81914601,\n",
       "        374.53206867, 369.23986623, 373.04996706, 375.16029419,\n",
       "        380.11466098, 369.44110941, 374.81054488, 373.82146873,\n",
       "        373.73115597, 370.2921086 , 370.76601235, 384.67813007,\n",
       "        383.87994173, 377.57815796, 377.56013148, 382.16046184,\n",
       "        373.8710709 , 374.50385709, 374.85432827, 379.18592857,\n",
       "        380.96024151, 369.5838417 , 379.50916381, 375.50395122,\n",
       "        371.06021299, 374.52394799, 380.68218102, 371.76619498,\n",
       "        372.68098965, 376.73013345, 376.35858257, 367.90893553,\n",
       "        370.18426546, 370.58370086, 369.82055178, 380.6825184 ]),\n",
       " array([365.63785376, 382.68044174, 379.2724694 , 375.92885576,\n",
       "        382.87052449, 375.90715767, 373.32403942, 373.65148112,\n",
       "        368.95370343, 374.2374427 , 373.63017114, 378.69505167,\n",
       "        381.22329264, 364.87894825, 372.54260644, 381.60591192,\n",
       "        372.99025141, 375.64968866, 372.74234727, 382.40670395,\n",
       "        382.00510693, 373.18537074, 382.81390096, 365.81446903,\n",
       "        373.93297714, 365.47115332, 370.28736407, 381.03537361,\n",
       "        374.34747916, 372.08295497, 374.25447429, 376.27196055,\n",
       "        376.06682338, 381.82242397, 377.51999342, 365.69180323,\n",
       "        381.75652678, 381.60366617, 381.73942696, 384.7866319 ,\n",
       "        374.01425395, 373.01023769, 382.42350586, 375.52114098,\n",
       "        368.77703862, 365.99003604, 372.79165446, 376.14866317,\n",
       "        376.18554532, 383.20882383, 375.41862548, 381.42906473,\n",
       "        373.23291956, 381.92105615, 383.03764589, 369.41399539,\n",
       "        373.39243776, 374.65388734, 383.33695762, 382.89969368,\n",
       "        380.31654282, 374.58657085, 379.9066784 , 364.69911394,\n",
       "        365.64980798, 371.94512764, 380.16739686, 383.73761013,\n",
       "        373.31043588, 375.61581352, 372.4828621 , 373.77043222,\n",
       "        377.10871581, 376.03538655, 364.62831711, 376.25411022,\n",
       "        375.09669375, 383.47118802, 382.80439984, 373.13651072,\n",
       "        378.42142039, 384.38962754, 365.62338714, 378.38345481,\n",
       "        381.80794673, 372.03204816, 374.94381203, 383.397759  ,\n",
       "        377.67133305, 381.79058364, 376.23349096, 372.54903865,\n",
       "        377.72596959, 383.44368563, 371.23677924, 366.4284826 ,\n",
       "        373.73353108, 384.99137459, 370.78707448, 381.42183035]))"
      ]
     },
     "execution_count": 124,
     "metadata": {},
     "output_type": "execute_result"
    }
   ],
   "source": [
    "y_data_full[9], y_data_full[-10]"
   ]
  },
  {
   "cell_type": "code",
   "execution_count": 93,
   "id": "10191dac-0781-49e2-bf58-46037ce4dd15",
   "metadata": {},
   "outputs": [
    {
     "data": {
      "text/plain": [
       "array([0.05, 0.15, 0.25, 0.35, 0.45, 0.55, 0.65, 0.75, 0.85, 0.95])"
      ]
     },
     "execution_count": 93,
     "metadata": {},
     "output_type": "execute_result"
    }
   ],
   "source": [
    "halflen = int(len(x)/2)\n"
   ]
  },
  {
   "cell_type": "code",
   "execution_count": 95,
   "id": "1ebd5005-0d30-49d4-839a-5f65ed0df4bd",
   "metadata": {},
   "outputs": [
    {
     "data": {
      "text/plain": [
       "10.0"
      ]
     },
     "execution_count": 95,
     "metadata": {},
     "output_type": "execute_result"
    }
   ],
   "source": [
    "len(x)/2"
   ]
  },
  {
   "cell_type": "code",
   "execution_count": 69,
   "id": "f10bccb9-2205-4137-86fc-cb75eeb714a1",
   "metadata": {},
   "outputs": [
    {
     "data": {
      "text/plain": [
       "array([-0.9, -0.7, -0.5, -0.3, -0.1,  0.1,  0.3,  0.5,  0.7,  0.9])"
      ]
     },
     "execution_count": 69,
     "metadata": {},
     "output_type": "execute_result"
    }
   ],
   "source": [
    "np.linspace(-0.9, 0.9, 10)"
   ]
  },
  {
   "cell_type": "code",
   "execution_count": 65,
   "id": "95882956-1cc0-478c-b5a9-dab234a007d1",
   "metadata": {},
   "outputs": [
    {
     "data": {
      "text/plain": [
       "array([0.05, 0.15, 0.25, 0.35, 0.45, 0.55, 0.65, 0.75, 0.85, 0.95])"
      ]
     },
     "execution_count": 65,
     "metadata": {},
     "output_type": "execute_result"
    }
   ],
   "source": [
    "np.linspace(0.05, 0.95, 10)"
   ]
  },
  {
   "cell_type": "code",
   "execution_count": 58,
   "id": "efb5ecf6-5192-49c4-9c14-98f6e7253219",
   "metadata": {},
   "outputs": [
    {
     "data": {
      "text/plain": [
       "18.224786722220546"
      ]
     },
     "execution_count": 58,
     "metadata": {},
     "output_type": "execute_result"
    }
   ],
   "source": [
    "np.average(vals_dict['T'])\n",
    "np.std(vals_dict['T'])"
   ]
  },
  {
   "cell_type": "code",
   "execution_count": 52,
   "id": "fa83f381-ce04-47df-95a7-1392403ce8ac",
   "metadata": {},
   "outputs": [
    {
     "data": {
      "text/plain": [
       "{'T': array([355.74374572, 368.17332467, 365.14967744, 373.98101733,\n",
       "        438.54525006, 365.98326459, 377.04314074, 373.27595326,\n",
       "        369.48725017, 379.32411659, 383.56885967, 358.77291298,\n",
       "        373.32468029, 381.74321132, 380.303325  , 363.00333326,\n",
       "        434.78446425, 373.83957929, 344.752934  , 374.12327245,\n",
       "        359.03822908, 372.20305686, 376.01056258, 398.45460217,\n",
       "        353.97105602, 373.96684207, 365.29444185, 357.39683087,\n",
       "        376.06506408, 351.83885767, 368.76751152, 359.01501948,\n",
       "        426.20103777, 358.22302126, 369.02877044, 382.80501438,\n",
       "        361.03646806, 357.61362524, 366.63145742, 375.09094947,\n",
       "        372.20968553, 361.45780142, 372.46916018, 378.80879105,\n",
       "        371.10708192, 379.02295775, 378.59483731, 438.72503392,\n",
       "        378.30258281, 366.42733174, 364.04296729, 369.86659513,\n",
       "        357.02001996, 369.46056653, 372.74091773, 434.43832716,\n",
       "        366.68213439, 378.67225914, 365.66959461, 362.90839602,\n",
       "        458.93974452, 383.88087293, 382.20089333, 385.06842334,\n",
       "        365.12771074, 379.35517428, 379.73257903, 357.39110859,\n",
       "        372.54028923, 378.97557234, 374.59278268, 369.60527196,\n",
       "        367.73673607, 378.62278272, 375.34352796, 381.43552153,\n",
       "        354.04588538, 358.78971759, 375.1292124 , 378.16965013,\n",
       "        366.04492991, 385.99143372, 372.51307827, 373.81726633,\n",
       "        374.66954356, 365.44334033, 370.58719909, 371.21427236,\n",
       "        379.37233781, 376.11861841, 376.40912613, 407.71960765,\n",
       "        376.1421135 , 374.01663867, 363.27313464, 383.7935557 ,\n",
       "        380.16001422, 388.95534879, 399.51673838, 380.75329949])}"
      ]
     },
     "execution_count": 52,
     "metadata": {},
     "output_type": "execute_result"
    }
   ],
   "source": [
    "vals_dict = get_ph_vals(['R1', 'T'], mpdf, eos, ray_no=100, verbose=verbose)\n",
    "vals_dict"
   ]
  },
  {
   "cell_type": "code",
   "execution_count": 47,
   "id": "7318a4c2-89d7-4c8c-99a1-eea1d6586325",
   "metadata": {},
   "outputs": [
    {
     "data": {
      "text/plain": [
       "363.474791873965"
      ]
     },
     "execution_count": 47,
     "metadata": {},
     "output_type": "execute_result"
    }
   ],
   "source": [
    "photosphere['T']"
   ]
  },
  {
   "cell_type": "code",
   "execution_count": 21,
   "id": "e1c06f42-e0b3-4231-b5cc-5cbb06fe1a10",
   "metadata": {},
   "outputs": [
    {
     "name": "stdout",
     "output_type": "stream",
     "text": [
      "Help on function get_photosphere_on_ray in module main.clmuphantomlib.light:\n",
      "\n",
      "get_photosphere_on_ray(pts_on_ray, dtaus, pts_order, sdf, ray, calc_params: list = ['loc', 'R1'], hfact: float = None, mpart: float = None, eos: main.clmuphantomlib.eos_base.EoS_Base = None, sdf_units: dict = None, ray_unit_vec: numpy.ndarray = None, kernel: <module 'sarracen.kernels.base_kernel' from '/home/clmu/anaconda3/envs/clmu_1/lib/python3.11/site-packages/sarracen/kernels/base_kernel.py'> = None, do_skip_zero_dtau_pts: bool = True, photosphere_tau: float = 1.0, verbose: int = 0) -> (<class 'dict'>, (<class 'numpy.ndarray'>, <class 'numpy.ndarray'>, <class 'numpy.ndarray'>))\n",
      "    Calc the location where the photosphere intersect with the ray.\n",
      "    \n",
      "    Assuming 3D.\n",
      "    \n",
      "    \n",
      "    Parameters\n",
      "    ----------\n",
      "    pts_on_ray, dtaus, pts_order\n",
      "        output from get_optical_depth_by_ray_tracing_3D().\n",
      "    \n",
      "        pts_on_ray: np.ndarray\n",
      "            Orthogonal projections of the particles' locations onto the ray.\n",
      "        \n",
      "        dtaus: np.ndarray\n",
      "            Optical depth tau contributed by each particles. In order of the original particles order in the dump file.\n",
      "            Remember tau is a dimensionless quantity.\n",
      "        \n",
      "        pts_order: np.ndarray\n",
      "            indices of the particles where dtaus are non-zero.\n",
      "            The indices are arranged by distances to the observer, i.e. the particles closest to the observer comes first, \n",
      "            and the furtherest comes last.\n",
      "    \n",
      "    sdf: sarracen.SarracenDataFrame\n",
      "        Must contain columns: x, y, z, h    # kappa, rho,\n",
      "        \n",
      "    ray: (2, 3)-shaped numpy array, i.e. [pt1, pt2]\n",
      "        2 points required to determine a line.\n",
      "        The line is described as X(t) = pt1 + t*(pt2-pt1)\n",
      "        First  point pt1 is the reference of the distance if R1 is calc-ed.\n",
      "        Second point pt2 points to the observer, and is closer to the observer.\n",
      "    \n",
      "    calc_params: list or tuple of str\n",
      "        parameters to be calculated / interpolated at the photosphere location.\n",
      "        Results will be put into the photosphere dict in the output.\n",
      "        Acceptable input: (Note: will always calc 'loc' if calc_params is not empty)\n",
      "            'is_found': will return bool.\n",
      "                Will always be outputted regardless of in calc_params or not.\n",
      "            'loc': will return (3,)-shaped numpy array.\n",
      "                photophere location.\n",
      "            'R1 ': will return float.\n",
      "                distance between photosphere location and the ray[0].\n",
      "                Could be negative if loc is on the other side of the ray.\n",
      "            'rho': will return float.\n",
      "                density at the photosphere.\n",
      "            'u': will return float.\n",
      "                specific internel energy at the photosphere.\n",
      "            'h'  : will return float.\n",
      "                smoothing length at the photosphere.\n",
      "                Will always calc 'rho' if to calc 'h'.\n",
      "            'T'  : will return float.\n",
      "                Temperature at the photosphere.\n",
      "                Warning: if not supplied 'temp' keyword in sdf_units, will return in cgs units.\n",
      "    \n",
      "    hfact, mpart: float\n",
      "        Only useful if you are calc-ing 'h'\n",
      "        $h_\\mathrm{fact}$ and particle mass used in the phantom sim.\n",
      "        If None, will get from sdf.params['hfact'] and sdf.params['mass']\n",
      "    \n",
      "    eos: .eos_base.EoS_BASE\n",
      "        Only useful if you are calc-ing 'T'\n",
      "        Equation of state object defined in eos_base.py\n",
      "    \n",
      "    sdf_units: dict\n",
      "        Only useful if you are calc-ing 'T'\n",
      "        in which case, supply rho, u, and T units in this dict\n",
      "        e.g.\n",
      "        sdf_units = {\n",
      "            'density': units.Msun / units.Rsun**3,\n",
      "            'specificEnergy': units.Rsun**2 / units.s**2,\n",
      "            'temp': units.K,\n",
      "        }\n",
      "    \n",
      "    ray_unit_vec: (3,)-shaped np.ndarray\n",
      "        unit vector of ray. will calc this if not supplied.\n",
      "        \n",
      "    kernel: sarracen.kernels.base_kernel\n",
      "        Smoothing kernel for SPH data interpolation.\n",
      "        If None, will use the one in sdf.\n",
      "        \n",
      "    do_skip_zero_dtau_pts: bool\n",
      "        Whether or not to skip particles with zero dtaus (i.e. no contribution to opacity) to save computational time.\n",
      "        If skiped, these particles' locs will be excluded from results as well\n",
      "        \n",
      "    photosphere_tau: float\n",
      "        At what optical depth (tau) is the photosphere defined.\n",
      "    \n",
      "    verbose: int\n",
      "        How much warnings, notes, and debug info to be print on screen. \n",
      "    \n",
      "    \n",
      "    Returns\n",
      "    -------\n",
      "    photosphere, (pts_waypts, pts_waypts_t, taus_waypts)\n",
      "    \n",
      "    photosphere: dict\n",
      "        dict of values found at the photosphere intersection point with the ray.\n",
      "        will always have \n",
      "    \n",
      "    pts_waypts: (npart, 3)-shaped numpy array\n",
      "        location of the waypoints on ray\n",
      "    \n",
      "    pts_waypts_t: (npart)-shaped numpy array\n",
      "        distance of the waypoints from ray[0]\n",
      "    \n",
      "    taus_waypts: (npart)-shaped numpy array\n",
      "        optical depth at the waypoints.\n",
      "\n"
     ]
    }
   ],
   "source": [
    "help(get_photosphere_on_ray)"
   ]
  },
  {
   "cell_type": "markdown",
   "id": "82fbb891-a48d-4d31-b7dd-003db8340dbe",
   "metadata": {},
   "source": [
    ".\n",
    "\n",
    ".\n",
    "\n",
    ".\n",
    "\n",
    "# Ignore Below\n",
    "\n",
    ".\n",
    "\n",
    ".\n",
    "\n",
    ".\n"
   ]
  },
  {
   "cell_type": "code",
   "execution_count": 8,
   "id": "91e4ca3c-dbd8-4e2f-bfc1-d352ca367c02",
   "metadata": {},
   "outputs": [],
   "source": [
    "# functions\n",
    "\n",
    "# plot_kappaProfile(job_name, file_index, eos_opacity, xlims, ylim, verbose)\n",
    "def plot_kappaProfile(\n",
    "    job_name: str, file_index: int, eos_opacity: EoS_MESA_opacity,\n",
    "    xlims: dict,\n",
    "    ylim: tuple,\n",
    "    verbose: int,\n",
    ") -> str:\n",
    "    \"\"\"Plot kappa Profile of a dump.\n",
    "\n",
    "    Warning: assume a hard-coded constant kappa_gas as 2e-4 cm2/g\n",
    "\n",
    "    Returns outfilename\n",
    "    \"\"\"\n",
    "    \n",
    "    fig, axes = plt.subplots(1, 2, figsize=(14, 7), sharey=True)\n",
    "    fig.subplots_adjust(wspace=0.0)\n",
    "    mpdf = mupl.MyPhantomDataFrames().read(job_name, file_index, verbose=verbose) # reset_xyz_by_CoM=True, \n",
    "    #jobfilename = mupl.get_filename_phantom_dumps(job_name, file_index)\n",
    "    jobfilename = mpdf.get_filename()\n",
    "    # get temperature column label (one of the elem in the set below)\n",
    "    temp_key = {'T', 'temperature', 'Tdust'}.intersection(mpdf.data['gas'].keys()).pop()\n",
    "    mpdf.data['gas']['T'    ] = mpdf.data['gas'][temp_key]\n",
    "    mpdf.data['gas']['kappa'] = get_val_in_unit(mpdf.data['gas']['kappa'], units.cm**2/units.g, mpdf.units['opacity'])\n",
    "\n",
    "    y_orig = mpdf.get_val('kappa').to(unitsOut['opacity'])\n",
    "    y_mesa = eos_opacity.get_kappa(mpdf.get_val('rho'), mpdf.get_val('T'), do_extrap=False).to(unitsOut['opacity'])\n",
    "    y_extrap_indexes = np.where(~np.isfinite(y_mesa))[0]\n",
    "    y_mesa_extrap = eos_opacity.get_kappa(\n",
    "        mpdf.get_val('rho')[y_extrap_indexes], mpdf.get_val('T')[y_extrap_indexes], do_extrap=True).cgs\n",
    "\n",
    "    # setting the switch between mesa opacity from phantom and nucleation opacity from luis\n",
    "    # mesa opacity table from phantom uses Ferguson-2005-1 for opacity calc at low T (T < 1e4 K),\n",
    "    #    which includes opacity from grains forming.\n",
    "    #    We don't want that becaues we have our own carbon dust nucleation opacity.\n",
    "    #    according to Ferguson-2005-1 fig9, grains dominates at T < 1450K (for logR=-3, X=0.7, Z=0.02)\n",
    "    T_0, T_delta = 1450 * units.K, 50 * units.K\n",
    "    x = mpdf.get_val('T').to(unitsOut['temp'], equivalencies=units.equivalencies.temperature())\n",
    "    kappa_gas = (2e-4*(units.cm**2/units.g)).to(unitsOut['opacity'])\n",
    "    y_comb = np.where(x < T_0, y_orig, y_orig - kappa_gas + y_mesa)\n",
    "\n",
    "    \n",
    "    # kappa vs temp\n",
    "    ax = axes[0]\n",
    "    x = mpdf.get_val('T').to(unitsOut['temp'], equivalencies=units.equivalencies.temperature())\n",
    "    x_extrap = x[y_extrap_indexes]\n",
    "    ax.loglog(x, y_orig, '.')\n",
    "    ax.loglog(x, y_mesa, '.')\n",
    "    ax.loglog(x_extrap, y_mesa_extrap, '.')\n",
    "    ax.loglog(x, y_comb, '.', label='Blended')\n",
    "    ax.set_xlim(xlims['T'])\n",
    "    ax.set_ylim(ylim)\n",
    "    ax.set_xlabel(f\"$T$ / {x.unit.to_string('latex_inline')}\")\n",
    "    ax.set_ylabel(f\"$\\\\kappa$ / {y_orig.unit.to_string('latex_inline')}\")\n",
    "    ax.text(\n",
    "        0.02, 0.98,\n",
    "        f\"Time = {mpdf.get_time(unitsOut['time']):.1f}\",\n",
    "        color = \"black\", ha = 'left', va = 'top',\n",
    "        transform=ax.transAxes,\n",
    "    )\n",
    "\n",
    "    # kappa vs rho\n",
    "    ax = axes[1]\n",
    "    x = mpdf.get_val('rho').to(unitsOut['density'])\n",
    "    x_extrap = x[y_extrap_indexes]\n",
    "    ax.loglog(x, y_orig, '.', label='Nucleation')\n",
    "    ax.loglog(x, y_mesa, '.', label='MESA')\n",
    "    ax.loglog(x_extrap, y_mesa_extrap, '.', label='MESA extrap')\n",
    "    ax.loglog(x, y_comb, '.', label='Blended')\n",
    "    ax.set_xlim(xlims['rho'])\n",
    "    ax.set_ylim(ylim)\n",
    "    ax.set_xlabel(f\"$\\\\rho$ / {x.unit.to_string('latex_inline')}\")\n",
    "    ax.legend(loc='lower right')\n",
    "\n",
    "\n",
    "    fig.suptitle(\n",
    "        f\"Opacity of all particles in the dump (different calculation method)\\n\"\n",
    "        #f\"resolution = {mpdf.params['nparttot']:.2e}\\n\"\n",
    "        f\"{job_profile['plot_title_suffix']}\"\n",
    "    )\n",
    "\n",
    "    outfilename = f\"{jobfilename}__kappaProfile.png\"\n",
    "    fig.savefig(outfilename)\n",
    "    plt.close(fig)\n",
    "    del mpdf\n",
    "\n",
    "    return outfilename"
   ]
  },
  {
   "cell_type": "code",
   "execution_count": 27,
   "id": "ce5e7a75-08df-44cf-b21b-ab3543f3f0d4",
   "metadata": {},
   "outputs": [
    {
     "name": "stdout",
     "output_type": "stream",
     "text": [
      "*   Note   :    MyPhantomDataFrames.read():\n",
      "\t\n",
      "\tReading filename='../photosphere/luis_2md/light_17600'\n",
      "\n",
      "**  Warning:    MyPhantomDataFrames.read():\n",
      "\t*    Warning: CoM significantly deviates from the origin,with distance of 15.877373716421248Consider use reset_xyz_by_CoM=True option when read.\n",
      "**  Warning:    MyPhantomDataFrames.read():\n",
      "\tkappa column exists.\n",
      "\tWe here assume kappa is in phantom units self.units['opacity']=Unit(\"udist2 / umass\")\n",
      "\tHowever in phantom kappa is often (?) assumed to be in cgs unit.\n",
      "\t\n",
      "    If so, please CONVERT KAPPA MANNUALLY into PHANTOM UNITS, such as:\n",
      "\t\n",
      "        mpdf.data['gas']['kappa'] = \n",
      "\tmupl.get_val_in_unit(mpdf.data['gas']['kappa'], units.cm**2/units.g, mpdf.units['opacity'])\n"
     ]
    },
    {
     "data": {
      "text/latex": [
       "$9.7355626 \\; \\mathrm{K}$"
      ],
      "text/plain": [
       "<Quantity 9.73556261 K>"
      ]
     },
     "execution_count": 27,
     "metadata": {},
     "output_type": "execute_result"
    }
   ],
   "source": [
    "key = '2md'\n",
    "file_index  = 17600\n",
    "job_profile = JOB_PROFILES_DICT[key]\n",
    "job_name    = job_profile['job_name']\n",
    "params      = job_profile['params']\n",
    "mpdf = mupl.MyPhantomDataFrames().read(job_name, file_index, verbose=verbose)\n",
    "temp_key = {'T', 'temperature', 'Tdust'}.intersection(mpdf.data['gas'].keys()).pop()\n",
    "mpdf.data['gas']['T'    ] = mpdf.data['gas'][temp_key]\n",
    "mpdf.get_val('T').min()"
   ]
  },
  {
   "cell_type": "code",
   "execution_count": 9,
   "id": "0cf64d1a-208a-4de0-857f-6fd5260d52a8",
   "metadata": {},
   "outputs": [],
   "source": [
    "do_debug = True"
   ]
  },
  {
   "cell_type": "code",
   "execution_count": 10,
   "id": "fe4c6a55-6958-43ee-a2a8-f7b80a5b3b19",
   "metadata": {},
   "outputs": [
    {
     "name": "stdout",
     "output_type": "stream",
     "text": [
      "*   Note   :    MyPhantomDataFrames.read():\n",
      "\t\n",
      "\tReading filename='../photosphere/luis_2md/light_17600'\n",
      "\n",
      "**  Warning:    MyPhantomDataFrames.read():\n",
      "\t*    Warning: CoM significantly deviates from the origin,with distance of 15.877373716421248Consider use reset_xyz_by_CoM=True option when read.\n",
      "**  Warning:    MyPhantomDataFrames.read():\n",
      "\tkappa column exists.\n",
      "\tWe here assume kappa is in phantom units self.units['opacity']=Unit(\"udist2 / umass\")\n",
      "\tHowever in phantom kappa is often (?) assumed to be in cgs unit.\n",
      "\t\n",
      "    If so, please CONVERT KAPPA MANNUALLY into PHANTOM UNITS, such as:\n",
      "\t\n",
      "        mpdf.data['gas']['kappa'] = \n",
      "\tmupl.get_val_in_unit(mpdf.data['gas']['kappa'], units.cm**2/units.g, mpdf.units['opacity'])\n",
      "../photosphere/luis_2md/light_17600__kappaProfile.png\n"
     ]
    }
   ],
   "source": [
    "if __name__ == '__main__' and do_debug:\n",
    "    ylim = (1e-6, 1e4)\n",
    "    xlims= {\n",
    "        'T'  : (  5.,  2e6),\n",
    "        'rho': (2e-20, 1e-3),\n",
    "    }\n",
    "    \n",
    "    key = '2md'\n",
    "    file_index  = 17600\n",
    "    job_profile = JOB_PROFILES_DICT[key]\n",
    "    job_name    = job_profile['job_name']\n",
    "    params      = job_profile['params']\n",
    "    eos_opacity = EoS_MESA_opacity(params, settings)\n",
    "    \n",
    "    outfilename = plot_kappaProfile(job_name, file_index, eos_opacity, xlims, ylim, verbose)\n",
    "    print(outfilename)"
   ]
  },
  {
   "cell_type": "code",
   "execution_count": 11,
   "id": "727a41f2-c588-44b7-b584-3fe2fc5cc3e9",
   "metadata": {},
   "outputs": [
    {
     "data": {
      "text/plain": [
       "array([2.8  , 2.825, 2.85 , 2.875, 2.9  , 2.925, 2.95 , 2.975, 3.   ,\n",
       "       3.025, 3.05 , 3.075, 3.1  , 3.125, 3.15 , 3.175, 3.2  , 3.225,\n",
       "       3.25 , 3.275, 3.3  , 3.325, 3.35 , 3.375, 3.4  , 3.425, 3.45 ,\n",
       "       3.475, 3.5  , 3.525, 3.55 , 3.575, 3.6  , 3.625, 3.65 , 3.675,\n",
       "       3.7  , 3.725, 3.75 , 3.775, 3.8  , 3.825, 3.85 , 3.875, 3.9  ,\n",
       "       3.925, 3.95 , 3.975, 4.   , 4.025, 4.05 , 4.075, 4.1  , 4.125,\n",
       "       4.15 , 4.175, 4.2  , 4.225, 4.25 , 4.275, 4.3  , 4.325, 4.35 ,\n",
       "       4.375, 4.4  , 4.425, 4.45 , 4.475, 4.5  , 4.525, 4.55 , 4.575,\n",
       "       4.6  , 4.625, 4.65 , 4.675, 4.7  , 4.725, 4.75 , 4.775, 4.8  ,\n",
       "       4.825, 4.85 , 4.875, 4.9  , 4.925, 4.95 , 4.975, 5.   , 5.025,\n",
       "       5.05 , 5.075, 5.1  , 5.125, 5.15 , 5.175, 5.2  , 5.225, 5.25 ,\n",
       "       5.275, 5.3  , 5.325, 5.35 , 5.375, 5.4  , 5.425, 5.45 , 5.475,\n",
       "       5.5  , 5.525, 5.55 , 5.575, 5.6  , 5.625, 5.65 , 5.675, 5.7  ,\n",
       "       5.725, 5.75 , 5.775, 5.8  , 5.825, 5.85 , 5.875, 5.9  , 5.925,\n",
       "       5.95 , 5.975, 6.   , 6.025, 6.05 , 6.075, 6.1  , 6.125, 6.15 ,\n",
       "       6.175, 6.2  , 6.225, 6.25 , 6.275, 6.3  , 6.325, 6.35 , 6.375,\n",
       "       6.4  , 6.425, 6.45 , 6.475, 6.5  , 6.525, 6.55 , 6.575, 6.6  ,\n",
       "       6.625, 6.65 , 6.675, 6.7  , 6.725, 6.75 , 6.775, 6.8  , 6.825,\n",
       "       6.85 , 6.875, 6.9  , 6.925, 6.95 , 6.975, 7.   , 7.025, 7.05 ,\n",
       "       7.075, 7.1  , 7.125, 7.15 , 7.175, 7.2  , 7.225, 7.25 , 7.275,\n",
       "       7.3  , 7.325, 7.35 , 7.375, 7.4  , 7.425, 7.45 , 7.475, 7.5  ,\n",
       "       7.525, 7.55 , 7.575, 7.6  , 7.625, 7.65 , 7.675, 7.7  , 7.725,\n",
       "       7.75 , 7.775, 7.8  , 7.825, 7.85 , 7.875, 7.9  , 7.925, 7.95 ,\n",
       "       7.975, 8.   , 8.025, 8.05 , 8.075, 8.1  , 8.125, 8.15 , 8.175,\n",
       "       8.2  , 8.225, 8.25 , 8.275, 8.3  , 8.325, 8.35 , 8.375, 8.4  ,\n",
       "       8.425, 8.45 , 8.475, 8.5  , 8.525, 8.55 , 8.575, 8.6  , 8.625,\n",
       "       8.65 , 8.675, 8.7  ])"
      ]
     },
     "execution_count": 11,
     "metadata": {},
     "output_type": "execute_result"
    }
   ],
   "source": [
    "eos_opacity._log10_T_arr"
   ]
  },
  {
   "cell_type": "code",
   "execution_count": 15,
   "id": "31fc22fe-a4d8-48fc-927d-2629894da300",
   "metadata": {},
   "outputs": [
    {
     "data": {
      "text/plain": [
       "1000000000"
      ]
     },
     "execution_count": 15,
     "metadata": {},
     "output_type": "execute_result"
    }
   ],
   "source": [
    "10**9"
   ]
  },
  {
   "cell_type": "code",
   "execution_count": 28,
   "id": "7826e9c5-c57a-4d29-bf22-1c99691b2a98",
   "metadata": {},
   "outputs": [
    {
     "name": "stdout",
     "output_type": "stream",
     "text": [
      "{'X': 0.691, 'Z': 0.021, 'mu': 2.381}\n"
     ]
    },
    {
     "data": {
      "image/png": "[encoded data removed]",
      "text/plain": [
       "<Figure size 1000x800 with 1 Axes>"
      ]
     },
     "metadata": {},
     "output_type": "display_data"
    }
   ],
   "source": [
    "if __name__ == '__main__' and do_debug:\n",
    "    params = JOB_PROFILES_DICT['2md']['params']\n",
    "    #params = {'X': 0.7, 'Z': 0.02}  # the ones used in Ferguson-2005-1 fig9\n",
    "    print(f\"{params}\")\n",
    "    eos_opacity = EoS_MESA_opacity(params, settings)\n",
    "    Ts = (10**np.arange(3., 3.3, 0.005))*units.K\n",
    "    fig, ax = plt.subplots(figsize=(10, 8))\n",
    "    for log10_rho in range(-16, -10, 1): #[-11.52]:\n",
    "        # side note: log10_rho=-11.52 (i.e. log10_R=-3 when logT=3.16) is the one used in Ferguson-2005-1 fig9\n",
    "        rho = (10**log10_rho)*(units.g/units.cm**3)\n",
    "        kappas = eos_opacity.get_kappa(rho=rho, T=Ts, method='cubic') #, method='cubic'\n",
    "        ax.semilogy(Ts.cgs, kappas.cgs, '-', label=f\"$\\\\log_{{10}} \\\\rho = {log10_rho}$\")\n",
    "\n",
    "    ax.legend()\n",
    "    ax.set_title(\"MESA opacity table $\\\\kappa$ vs temperature $T$\")\n",
    "    ax.set_ylabel(f\"$\\\\kappa$ / {kappas.cgs.unit.to_string('latex_inline')}\")\n",
    "    ax.set_xlabel(f\"$T$ / $K$\")\n",
    "    fig.savefig(f\"main/test_mesa-opacity_kappa-T-rho.png\")"
   ]
  },
  {
   "cell_type": "code",
   "execution_count": null,
   "id": "65aa6a30-0f04-4ea5-8639-a39c157f2ff0",
   "metadata": {
    "scrolled": true
   },
   "outputs": [
    {
     "name": "stdout",
     "output_type": "stream",
     "text": [
      "*   Note   :    MyPhantomDataFrames.read():\n",
      "\tReading filename='../photosphere/luis_2md/light_00000'\n",
      "*   Note: Reseting Origin to CoM...\n",
      "    Note: CoM location is now: self.loc_CoM = array([ 0.00000000e+00,  3.59257537e-16, -1.80945419e-16])\n",
      "**  Warning:    MyPhantomDataFrames.read():\n",
      "\tkappa column exists.\n",
      "\tWe here assume kappa is in phantom units self.units['opacity']=Unit(\"udist2 / umass\")\n",
      "\tHowever in phantom kappa is often (?) assumed to be in cgs unit.\n",
      "\t\n",
      "    If so, please COVERT KAPPA MANNUALLY into PHANTOM UNITS by using code, such as:\n",
      "\t\n",
      "        mpdf.data['gas']['kappa'] = \n",
      "\tmupl.set_as_quantity(mpdf.data['gas']['kappa'], units.cm**2/units.g).to_value(mpdf.units['opacity'])\n",
      "*   Note   :    MyPhantomDataFrames.read():\n",
      "\tReading filename='../photosphere/luis_2md/light_00100'\n",
      "*   Note: Reseting Origin to CoM...\n",
      "    Note: CoM location is now: self.loc_CoM = array([ 0.00000000e+00, -6.16342983e-15, -8.78770269e-16])\n",
      "**  Warning:    MyPhantomDataFrames.read():\n",
      "\tkappa column exists.\n",
      "\tWe here assume kappa is in phantom units self.units['opacity']=Unit(\"udist2 / umass\")\n",
      "\tHowever in phantom kappa is often (?) assumed to be in cgs unit.\n",
      "\t\n",
      "    If so, please COVERT KAPPA MANNUALLY into PHANTOM UNITS by using code, such as:\n",
      "\t\n",
      "        mpdf.data['gas']['kappa'] = \n",
      "\tmupl.set_as_quantity(mpdf.data['gas']['kappa'], units.cm**2/units.g).to_value(mpdf.units['opacity'])\n",
      "*   Note   :    MyPhantomDataFrames.read():\n",
      "\tReading filename='../photosphere/luis_2md/light_00200'\n",
      "*   Note: Reseting Origin to CoM...\n",
      "    Note: CoM location is now: self.loc_CoM = array([-9.24514475e-15,  4.93074387e-14, -2.88910773e-16])\n",
      "**  Warning:    MyPhantomDataFrames.read():\n",
      "\tkappa column exists.\n",
      "\tWe here assume kappa is in phantom units self.units['opacity']=Unit(\"udist2 / umass\")\n",
      "\tHowever in phantom kappa is often (?) assumed to be in cgs unit.\n",
      "\t\n",
      "    If so, please COVERT KAPPA MANNUALLY into PHANTOM UNITS by using code, such as:\n",
      "\t\n",
      "        mpdf.data['gas']['kappa'] = \n",
      "\tmupl.set_as_quantity(mpdf.data['gas']['kappa'], units.cm**2/units.g).to_value(mpdf.units['opacity'])\n",
      "*   Note   :    MyPhantomDataFrames.read():\n",
      "\tReading filename='../photosphere/luis_2md/light_00300'\n",
      "*   Note: Reseting Origin to CoM...\n",
      "    Note: CoM location is now: self.loc_CoM = array([ 9.24514475e-15, -2.46537193e-14,  1.44455387e-16])\n",
      "**  Warning:    MyPhantomDataFrames.read():\n",
      "\tkappa column exists.\n",
      "\tWe here assume kappa is in phantom units self.units['opacity']=Unit(\"udist2 / umass\")\n",
      "\tHowever in phantom kappa is often (?) assumed to be in cgs unit.\n",
      "\t\n",
      "    If so, please COVERT KAPPA MANNUALLY into PHANTOM UNITS by using code, such as:\n",
      "\t\n",
      "        mpdf.data['gas']['kappa'] = \n",
      "\tmupl.set_as_quantity(mpdf.data['gas']['kappa'], units.cm**2/units.g).to_value(mpdf.units['opacity'])\n",
      "*   Note   :    MyPhantomDataFrames.read():\n",
      "\tReading filename='../photosphere/luis_2md/light_00400'\n",
      "*   Note: Reseting Origin to CoM...\n",
      "    Note: CoM location is now: self.loc_CoM = array([-1.23268597e-14, -6.16342983e-15,  3.64147954e-16])\n",
      "**  Warning:    MyPhantomDataFrames.read():\n",
      "\tkappa column exists.\n",
      "\tWe here assume kappa is in phantom units self.units['opacity']=Unit(\"udist2 / umass\")\n",
      "\tHowever in phantom kappa is often (?) assumed to be in cgs unit.\n",
      "\t\n",
      "    If so, please COVERT KAPPA MANNUALLY into PHANTOM UNITS by using code, such as:\n",
      "\t\n",
      "        mpdf.data['gas']['kappa'] = \n",
      "\tmupl.set_as_quantity(mpdf.data['gas']['kappa'], units.cm**2/units.g).to_value(mpdf.units['opacity'])\n",
      "*   Note   :    MyPhantomDataFrames.read():\n",
      "\tReading filename='../photosphere/luis_2md/light_00500'\n",
      "*   Note: Reseting Origin to CoM...\n",
      "    Note: CoM location is now: self.loc_CoM = array([3.69805790e-14, 2.00311470e-14, 9.14884116e-16])\n",
      "**  Warning:    MyPhantomDataFrames.read():\n",
      "\tkappa column exists.\n",
      "\tWe here assume kappa is in phantom units self.units['opacity']=Unit(\"udist2 / umass\")\n",
      "\tHowever in phantom kappa is often (?) assumed to be in cgs unit.\n",
      "\t\n",
      "    If so, please COVERT KAPPA MANNUALLY into PHANTOM UNITS by using code, such as:\n",
      "\t\n",
      "        mpdf.data['gas']['kappa'] = \n",
      "\tmupl.set_as_quantity(mpdf.data['gas']['kappa'], units.cm**2/units.g).to_value(mpdf.units['opacity'])\n",
      "*   Note   :    MyPhantomDataFrames.read():\n",
      "\tReading filename='../photosphere/luis_2md/light_00600'\n",
      "*   Note: Reseting Origin to CoM...\n",
      "    Note: CoM location is now: self.loc_CoM = array([ 1.23268597e-14,  0.00000000e+00, -9.63035911e-17])\n",
      "**  Warning:    MyPhantomDataFrames.read():\n",
      "\tkappa column exists.\n",
      "\tWe here assume kappa is in phantom units self.units['opacity']=Unit(\"udist2 / umass\")\n",
      "\tHowever in phantom kappa is often (?) assumed to be in cgs unit.\n",
      "\t\n",
      "    If so, please COVERT KAPPA MANNUALLY into PHANTOM UNITS by using code, such as:\n",
      "\t\n",
      "        mpdf.data['gas']['kappa'] = \n",
      "\tmupl.set_as_quantity(mpdf.data['gas']['kappa'], units.cm**2/units.g).to_value(mpdf.units['opacity'])\n",
      "*   Note   :    MyPhantomDataFrames.read():\n",
      "\tReading filename='../photosphere/luis_2md/light_00700'\n",
      "*   Note: Reseting Origin to CoM...\n",
      "    Note: CoM location is now: self.loc_CoM = array([ 0.00000000e+00, -1.23268597e-14, -1.92607182e-16])\n",
      "**  Warning:    MyPhantomDataFrames.read():\n",
      "\tkappa column exists.\n",
      "\tWe here assume kappa is in phantom units self.units['opacity']=Unit(\"udist2 / umass\")\n",
      "\tHowever in phantom kappa is often (?) assumed to be in cgs unit.\n",
      "\t\n",
      "    If so, please COVERT KAPPA MANNUALLY into PHANTOM UNITS by using code, such as:\n",
      "\t\n",
      "        mpdf.data['gas']['kappa'] = \n",
      "\tmupl.set_as_quantity(mpdf.data['gas']['kappa'], units.cm**2/units.g).to_value(mpdf.units['opacity'])\n",
      "*   Note   :    MyPhantomDataFrames.read():\n",
      "\tReading filename='../photosphere/luis_2md/light_00800'\n",
      "*   Note: Reseting Origin to CoM...\n",
      "    Note: CoM location is now: self.loc_CoM = array([ 1.84902895e-14, -1.84902895e-14,  2.40758978e-17])\n",
      "**  Warning:    MyPhantomDataFrames.read():\n",
      "\tkappa column exists.\n",
      "\tWe here assume kappa is in phantom units self.units['opacity']=Unit(\"udist2 / umass\")\n",
      "\tHowever in phantom kappa is often (?) assumed to be in cgs unit.\n",
      "\t\n",
      "    If so, please COVERT KAPPA MANNUALLY into PHANTOM UNITS by using code, such as:\n",
      "\t\n",
      "        mpdf.data['gas']['kappa'] = \n",
      "\tmupl.set_as_quantity(mpdf.data['gas']['kappa'], units.cm**2/units.g).to_value(mpdf.units['opacity'])\n",
      "*   Note   :    MyPhantomDataFrames.read():\n",
      "\tReading filename='../photosphere/luis_2md/light_00900'\n",
      "*   Note: Reseting Origin to CoM...\n",
      "    Note: CoM location is now: self.loc_CoM = array([ 6.16342983e-15,  1.23268597e-14, -9.63035911e-17])\n",
      "**  Warning:    MyPhantomDataFrames.read():\n",
      "\tkappa column exists.\n",
      "\tWe here assume kappa is in phantom units self.units['opacity']=Unit(\"udist2 / umass\")\n",
      "\tHowever in phantom kappa is often (?) assumed to be in cgs unit.\n",
      "\t\n",
      "    If so, please COVERT KAPPA MANNUALLY into PHANTOM UNITS by using code, such as:\n",
      "\t\n",
      "        mpdf.data['gas']['kappa'] = \n",
      "\tmupl.set_as_quantity(mpdf.data['gas']['kappa'], units.cm**2/units.g).to_value(mpdf.units['opacity'])\n",
      "*   Note   :    MyPhantomDataFrames.read():\n",
      "\tReading filename='../photosphere/luis_2md/light_01000'\n",
      "*   Note: Reseting Origin to CoM...\n",
      "    Note: CoM location is now: self.loc_CoM = array([ 1.23268597e-14, -6.16342983e-15, -5.77821547e-16])\n",
      "**  Warning:    MyPhantomDataFrames.read():\n",
      "\tkappa column exists.\n",
      "\tWe here assume kappa is in phantom units self.units['opacity']=Unit(\"udist2 / umass\")\n",
      "\tHowever in phantom kappa is often (?) assumed to be in cgs unit.\n",
      "\t\n",
      "    If so, please COVERT KAPPA MANNUALLY into PHANTOM UNITS by using code, such as:\n",
      "\t\n",
      "        mpdf.data['gas']['kappa'] = \n",
      "\tmupl.set_as_quantity(mpdf.data['gas']['kappa'], units.cm**2/units.g).to_value(mpdf.units['opacity'])\n",
      "*   Note   :    MyPhantomDataFrames.read():\n",
      "\tReading filename='../photosphere/luis_2md/light_01100'\n",
      "*   Note: Reseting Origin to CoM...\n",
      "    Note: CoM location is now: self.loc_CoM = array([ 3.08171492e-15,  5.54708685e-14, -1.44455387e-16])\n",
      "**  Warning:    MyPhantomDataFrames.read():\n",
      "\tkappa column exists.\n",
      "\tWe here assume kappa is in phantom units self.units['opacity']=Unit(\"udist2 / umass\")\n",
      "\tHowever in phantom kappa is often (?) assumed to be in cgs unit.\n",
      "\t\n",
      "    If so, please COVERT KAPPA MANNUALLY into PHANTOM UNITS by using code, such as:\n",
      "\t\n",
      "        mpdf.data['gas']['kappa'] = \n",
      "\tmupl.set_as_quantity(mpdf.data['gas']['kappa'], units.cm**2/units.g).to_value(mpdf.units['opacity'])\n",
      "*   Note   :    MyPhantomDataFrames.read():\n",
      "\tReading filename='../photosphere/luis_2md/light_01200'\n",
      "*   Note: Reseting Origin to CoM...\n",
      "    Note: CoM location is now: self.loc_CoM = array([-3.08171492e-15, -6.77977281e-14,  3.85214364e-16])\n",
      "**  Warning:    MyPhantomDataFrames.read():\n",
      "\tkappa column exists.\n",
      "\tWe here assume kappa is in phantom units self.units['opacity']=Unit(\"udist2 / umass\")\n",
      "\tHowever in phantom kappa is often (?) assumed to be in cgs unit.\n",
      "\t\n",
      "    If so, please COVERT KAPPA MANNUALLY into PHANTOM UNITS by using code, such as:\n",
      "\t\n",
      "        mpdf.data['gas']['kappa'] = \n",
      "\tmupl.set_as_quantity(mpdf.data['gas']['kappa'], units.cm**2/units.g).to_value(mpdf.units['opacity'])\n",
      "*   Note   :    MyPhantomDataFrames.read():\n",
      "\tReading filename='../photosphere/luis_2md/light_01300'\n",
      "*   Note: Reseting Origin to CoM...\n",
      "    Note: CoM location is now: self.loc_CoM = array([-2.46537193e-14,  3.85214364e-16,  5.05593853e-16])\n",
      "**  Warning:    MyPhantomDataFrames.read():\n",
      "\tkappa column exists.\n",
      "\tWe here assume kappa is in phantom units self.units['opacity']=Unit(\"udist2 / umass\")\n",
      "\tHowever in phantom kappa is often (?) assumed to be in cgs unit.\n",
      "\t\n",
      "    If so, please COVERT KAPPA MANNUALLY into PHANTOM UNITS by using code, such as:\n",
      "\t\n",
      "        mpdf.data['gas']['kappa'] = \n",
      "\tmupl.set_as_quantity(mpdf.data['gas']['kappa'], units.cm**2/units.g).to_value(mpdf.units['opacity'])\n",
      "*   Note   :    MyPhantomDataFrames.read():\n",
      "\tReading filename='../photosphere/luis_2md/light_01400'\n",
      "*   Note: Reseting Origin to CoM...\n",
      "    Note: CoM location is now: self.loc_CoM = array([ 1.23268597e-14, -1.84902895e-14, -2.67844363e-16])\n",
      "**  Warning:    MyPhantomDataFrames.read():\n",
      "\tkappa column exists.\n",
      "\tWe here assume kappa is in phantom units self.units['opacity']=Unit(\"udist2 / umass\")\n",
      "\tHowever in phantom kappa is often (?) assumed to be in cgs unit.\n",
      "\t\n",
      "    If so, please COVERT KAPPA MANNUALLY into PHANTOM UNITS by using code, such as:\n",
      "\t\n",
      "        mpdf.data['gas']['kappa'] = \n",
      "\tmupl.set_as_quantity(mpdf.data['gas']['kappa'], units.cm**2/units.g).to_value(mpdf.units['opacity'])\n",
      "*   Note   :    MyPhantomDataFrames.read():\n",
      "\tReading filename='../photosphere/luis_2md/light_01500'\n",
      "*   Note: Reseting Origin to CoM...\n",
      "    Note: CoM location is now: self.loc_CoM = array([ 9.24514475e-15,  3.85214364e-15, -1.20379489e-15])\n",
      "**  Warning:    MyPhantomDataFrames.read():\n",
      "\tkappa column exists.\n",
      "\tWe here assume kappa is in phantom units self.units['opacity']=Unit(\"udist2 / umass\")\n",
      "\tHowever in phantom kappa is often (?) assumed to be in cgs unit.\n",
      "\t\n",
      "    If so, please COVERT KAPPA MANNUALLY into PHANTOM UNITS by using code, such as:\n",
      "\t\n",
      "        mpdf.data['gas']['kappa'] = \n",
      "\tmupl.set_as_quantity(mpdf.data['gas']['kappa'], units.cm**2/units.g).to_value(mpdf.units['opacity'])\n",
      "*   Note   :    MyPhantomDataFrames.read():\n",
      "\tReading filename='../photosphere/luis_2md/light_01600'\n",
      "*   Note: Reseting Origin to CoM...\n",
      "    Note: CoM location is now: self.loc_CoM = array([-7.70428729e-16,  0.00000000e+00,  5.41707700e-16])\n",
      "**  Warning:    MyPhantomDataFrames.read():\n",
      "\tkappa column exists.\n",
      "\tWe here assume kappa is in phantom units self.units['opacity']=Unit(\"udist2 / umass\")\n",
      "\tHowever in phantom kappa is often (?) assumed to be in cgs unit.\n",
      "\t\n",
      "    If so, please COVERT KAPPA MANNUALLY into PHANTOM UNITS by using code, such as:\n",
      "\t\n",
      "        mpdf.data['gas']['kappa'] = \n",
      "\tmupl.set_as_quantity(mpdf.data['gas']['kappa'], units.cm**2/units.g).to_value(mpdf.units['opacity'])\n",
      "*   Note   :    MyPhantomDataFrames.read():\n",
      "\tReading filename='../photosphere/luis_2md/light_01700'\n",
      "*   Note: Reseting Origin to CoM...\n",
      "    Note: CoM location is now: self.loc_CoM = array([3.08171492e-15, 4.62257237e-15, 1.92607182e-15])\n",
      "**  Warning:    MyPhantomDataFrames.read():\n",
      "\tkappa column exists.\n",
      "\tWe here assume kappa is in phantom units self.units['opacity']=Unit(\"udist2 / umass\")\n",
      "\tHowever in phantom kappa is often (?) assumed to be in cgs unit.\n",
      "\t\n",
      "    If so, please COVERT KAPPA MANNUALLY into PHANTOM UNITS by using code, such as:\n",
      "\t\n",
      "        mpdf.data['gas']['kappa'] = \n",
      "\tmupl.set_as_quantity(mpdf.data['gas']['kappa'], units.cm**2/units.g).to_value(mpdf.units['opacity'])\n",
      "*   Note   :    MyPhantomDataFrames.read():\n",
      "\tReading filename='../photosphere/luis_2md/light_01800'\n",
      "*   Note: Reseting Origin to CoM...\n",
      "    Note: CoM location is now: self.loc_CoM = array([-2.69650055e-15,  7.70428729e-15, -5.77821547e-16])\n",
      "**  Warning:    MyPhantomDataFrames.read():\n",
      "\tkappa column exists.\n",
      "\tWe here assume kappa is in phantom units self.units['opacity']=Unit(\"udist2 / umass\")\n",
      "\tHowever in phantom kappa is often (?) assumed to be in cgs unit.\n",
      "\t\n",
      "    If so, please COVERT KAPPA MANNUALLY into PHANTOM UNITS by using code, such as:\n",
      "\t\n",
      "        mpdf.data['gas']['kappa'] = \n",
      "\tmupl.set_as_quantity(mpdf.data['gas']['kappa'], units.cm**2/units.g).to_value(mpdf.units['opacity'])\n",
      "*   Note   :    MyPhantomDataFrames.read():\n",
      "\tReading filename='../photosphere/luis_2md/light_01900'\n",
      "*   Note: Reseting Origin to CoM...\n",
      "    Note: CoM location is now: self.loc_CoM = array([ 1.54085746e-15,  1.44455387e-16, -1.65521797e-15])\n",
      "**  Warning:    MyPhantomDataFrames.read():\n",
      "\tkappa column exists.\n",
      "\tWe here assume kappa is in phantom units self.units['opacity']=Unit(\"udist2 / umass\")\n",
      "\tHowever in phantom kappa is often (?) assumed to be in cgs unit.\n",
      "\t\n",
      "    If so, please COVERT KAPPA MANNUALLY into PHANTOM UNITS by using code, such as:\n",
      "\t\n",
      "        mpdf.data['gas']['kappa'] = \n",
      "\tmupl.set_as_quantity(mpdf.data['gas']['kappa'], units.cm**2/units.g).to_value(mpdf.units['opacity'])\n",
      "*   Note   :    MyPhantomDataFrames.read():\n",
      "\tReading filename='../photosphere/luis_2md/light_02000'\n",
      "*   Note: Reseting Origin to CoM...\n",
      "    Note: CoM location is now: self.loc_CoM = array([-3.08171492e-15,  4.23735801e-15,  1.68531284e-15])\n",
      "**  Warning:    MyPhantomDataFrames.read():\n",
      "\tkappa column exists.\n",
      "\tWe here assume kappa is in phantom units self.units['opacity']=Unit(\"udist2 / umass\")\n",
      "\tHowever in phantom kappa is often (?) assumed to be in cgs unit.\n",
      "\t\n",
      "    If so, please COVERT KAPPA MANNUALLY into PHANTOM UNITS by using code, such as:\n",
      "\t\n",
      "        mpdf.data['gas']['kappa'] = \n",
      "\tmupl.set_as_quantity(mpdf.data['gas']['kappa'], units.cm**2/units.g).to_value(mpdf.units['opacity'])\n",
      "*   Note   :    MyPhantomDataFrames.read():\n",
      "\tReading filename='../photosphere/luis_2md/light_02100'\n"
     ]
    }
   ],
   "source": [
    "# plotting kappa vs Temp and kappa vs rho\n",
    "if __name__ == '__main__':\n",
    "\n",
    "    ylim = (1e-6, 1e4)\n",
    "    xlims= {\n",
    "        'T'  : (  5.,  2e6),\n",
    "        'rho': (2e-20, 1e-3),\n",
    "    }\n",
    "    \n",
    "    #mpdf = mupl.MyPhantomDataFrames()\n",
    "    for key in ['2md', '4md']:\n",
    "        job_profile = JOB_PROFILES_DICT[key]\n",
    "        job_name    = job_profile['job_name']\n",
    "        params      = job_profile['params']\n",
    "        eos_opacity = EoS_MESA_opacity(params, settings)\n",
    "\n",
    "        \n",
    "        if NPROCESSES <= 1:\n",
    "\n",
    "            # single process\n",
    "            if __name__ == '__main__' and is_verbose(verbose, 'note'):\n",
    "                say('note', \"script_kappaProfile\", verbose, f\"Using single process.\")\n",
    "            \n",
    "            outfilenames = []\n",
    "            for file_index in job_profile['file_indexes']:\n",
    "                outfilename = plot_kappaProfile(job_name, file_index, eos_opacity, xlims, ylim, verbose)\n",
    "                outfilenames.append(outfilename)\n",
    "        else:\n",
    "\n",
    "            # multi-process\n",
    "            if __name__ == '__main__' and is_verbose(verbose, 'note'):\n",
    "                say('note', \"script_kappaProfile\", verbose, f\"Using {NPROCESSES} processes.\")\n",
    "                \n",
    "            args = [(job_name, file_index, eos_opacity, xlims, ylim, 0) for file_index in job_profile['file_indexes']]\n",
    "            with Pool(processes=NPROCESSES) as pool:\n",
    "                outfilenames = pool.starmap(plot_kappaProfile, args)\n",
    "\n",
    "\n",
    "        # define job_folder_prefix\n",
    "        for i in range(len(job_name)-1, -1, -1):\n",
    "            if job_name[i] == path.sep:\n",
    "                job_folder_prefix = job_name[:i]\n",
    "                break\n",
    "            else:\n",
    "                job_folder_prefix = job_name\n",
    "        with ImageSequenceClip(outfilenames, fps=fps) as vid:\n",
    "            moviefilename = f\"{job_folder_prefix}__kappaProfile__movie.mp4\"\n",
    "            vid.write_videofile(moviefilename)\n",
    "\n",
    "    print(\"\\n\\n\\n*** All Done. ***\\n\\n\\n\")"
   ]
  },
  {
   "cell_type": "markdown",
   "id": "50ab2384-0eaa-4008-9f69-375a0e9c5b02",
   "metadata": {},
   "source": [
    "if __name__ == '__main__':\n",
    "    \n",
    "    plt.close(fig)\n",
    "    \n",
    "    fig, ax = plt.subplots(figsize=(8, 8))\n",
    "    x = mpdf.get_val('T').to(unitsOut['temp'], equivalencies=units.equivalencies.temperature())\n",
    "    y = mpdf.get_val('rho').to(unitsOut['density'])\n",
    "    ax.loglog(x, y, '.')\n",
    "    ax.text(\n",
    "        0.95, 0.5,\n",
    "        f\"Time = {mpdf.get_time(unitsOut['time']):.1f}\",\n",
    "        color = \"black\", ha = 'right', va = 'top',\n",
    "        transform=ax.transAxes,\n",
    "    )\n",
    "    ax.set_xlim(xlims['T'])\n",
    "    ax.set_ylim(xlims['rho'])\n",
    "\n",
    "\n",
    "\n"
   ]
  },
  {
   "cell_type": "code",
   "execution_count": null,
   "id": "0ad0fb3b-0970-47b8-8ca1-fc6f6fd8a236",
   "metadata": {},
   "outputs": [],
   "source": []
  }
 ],
 "metadata": {
  "kernelspec": {
   "display_name": "Python 3 (ipykernel)",
   "language": "python",
   "name": "python3"
  },
  "language_info": {
   "codemirror_mode": {
    "name": "ipython",
    "version": 3
   },
   "file_extension": ".py",
   "mimetype": "text/x-python",
   "name": "python",
   "nbconvert_exporter": "python",
   "pygments_lexer": "ipython3",
   "version": "3.11.6"
  }
 },
 "nbformat": 4,
 "nbformat_minor": 5
}
